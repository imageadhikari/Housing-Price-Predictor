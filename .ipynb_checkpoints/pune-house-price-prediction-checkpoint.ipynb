{
 "cells": [
  {
   "cell_type": "code",
   "execution_count": 1,
   "id": "8e3fd081",
   "metadata": {
    "_cell_guid": "b1076dfc-b9ad-4769-8c92-a6c4dae69d19",
    "_uuid": "8f2839f25d086af736a60e9eeb907d3b93b6e0e5",
    "execution": {
     "iopub.execute_input": "2022-07-16T09:24:15.029391Z",
     "iopub.status.busy": "2022-07-16T09:24:15.029001Z",
     "iopub.status.idle": "2022-07-16T09:24:15.062140Z",
     "shell.execute_reply": "2022-07-16T09:24:15.061093Z"
    },
    "papermill": {
     "duration": 0.172107,
     "end_time": "2022-07-16T09:24:15.065590",
     "exception": false,
     "start_time": "2022-07-16T09:24:14.893483",
     "status": "completed"
    },
    "tags": []
   },
   "outputs": [],
   "source": [
    "import pandas as pd\n",
    "import numpy as np\n",
    "from matplotlib import pyplot as plt\n",
    "%matplotlib inline\n",
    "import matplotlib \n",
    "matplotlib.rcParams[\"figure.figsize\"] = (20,10)\n",
    "\n",
    "import os\n",
    "for dirname, _, filenames in os.walk('/kaggle/input'):\n",
    "    for filename in filenames:\n",
    "        print(os.path.join(dirname, filename))"
   ]
  },
  {
   "cell_type": "code",
   "execution_count": 2,
   "id": "0ea1120c",
   "metadata": {
    "execution": {
     "iopub.execute_input": "2022-07-16T09:24:15.321715Z",
     "iopub.status.busy": "2022-07-16T09:24:15.321366Z",
     "iopub.status.idle": "2022-07-16T09:24:15.328989Z",
     "shell.execute_reply": "2022-07-16T09:24:15.328357Z"
    },
    "papermill": {
     "duration": 0.137914,
     "end_time": "2022-07-16T09:24:15.331137",
     "exception": false,
     "start_time": "2022-07-16T09:24:15.193223",
     "status": "completed"
    },
    "tags": []
   },
   "outputs": [],
   "source": [
    "from matplotlib import pyplot as plt\n",
    "%matplotlib inline\n",
    "import matplotlib\n",
    "matplotlib.rcParams[\"figure.figsize\"] = (20,10)"
   ]
  },
  {
   "cell_type": "markdown",
   "id": "56981d23",
   "metadata": {
    "papermill": {
     "duration": 0.07547,
     "end_time": "2022-07-16T09:24:15.505590",
     "exception": false,
     "start_time": "2022-07-16T09:24:15.430120",
     "status": "completed"
    },
    "tags": []
   },
   "source": [
    "# Load Data: Load pune Home prices into a dataframe"
   ]
  },
  {
   "cell_type": "code",
   "execution_count": 3,
   "id": "105704b8",
   "metadata": {
    "execution": {
     "iopub.execute_input": "2022-07-16T09:24:15.659629Z",
     "iopub.status.busy": "2022-07-16T09:24:15.658953Z",
     "iopub.status.idle": "2022-07-16T09:24:15.794685Z",
     "shell.execute_reply": "2022-07-16T09:24:15.793766Z"
    },
    "papermill": {
     "duration": 0.21513,
     "end_time": "2022-07-16T09:24:15.797050",
     "exception": false,
     "start_time": "2022-07-16T09:24:15.581920",
     "status": "completed"
    },
    "tags": []
   },
   "outputs": [
    {
     "data": {
      "text/html": [
       "<div>\n",
       "<style scoped>\n",
       "    .dataframe tbody tr th:only-of-type {\n",
       "        vertical-align: middle;\n",
       "    }\n",
       "\n",
       "    .dataframe tbody tr th {\n",
       "        vertical-align: top;\n",
       "    }\n",
       "\n",
       "    .dataframe thead th {\n",
       "        text-align: right;\n",
       "    }\n",
       "</style>\n",
       "<table border=\"1\" class=\"dataframe\">\n",
       "  <thead>\n",
       "    <tr style=\"text-align: right;\">\n",
       "      <th></th>\n",
       "      <th>area_type</th>\n",
       "      <th>availability</th>\n",
       "      <th>size</th>\n",
       "      <th>society</th>\n",
       "      <th>total_sqft</th>\n",
       "      <th>bath</th>\n",
       "      <th>balcony</th>\n",
       "      <th>price</th>\n",
       "      <th>site_location</th>\n",
       "    </tr>\n",
       "  </thead>\n",
       "  <tbody>\n",
       "    <tr>\n",
       "      <th>0</th>\n",
       "      <td>Super built-up  Area</td>\n",
       "      <td>19-Dec</td>\n",
       "      <td>2 BHK</td>\n",
       "      <td>Coomee</td>\n",
       "      <td>1056</td>\n",
       "      <td>2.0</td>\n",
       "      <td>1.0</td>\n",
       "      <td>39.07</td>\n",
       "      <td>Alandi Road</td>\n",
       "    </tr>\n",
       "    <tr>\n",
       "      <th>1</th>\n",
       "      <td>Plot  Area</td>\n",
       "      <td>Ready To Move</td>\n",
       "      <td>4 Bedroom</td>\n",
       "      <td>Theanmp</td>\n",
       "      <td>2600</td>\n",
       "      <td>5.0</td>\n",
       "      <td>3.0</td>\n",
       "      <td>120.00</td>\n",
       "      <td>Ambegaon Budruk</td>\n",
       "    </tr>\n",
       "    <tr>\n",
       "      <th>2</th>\n",
       "      <td>Built-up  Area</td>\n",
       "      <td>Ready To Move</td>\n",
       "      <td>3 BHK</td>\n",
       "      <td>NaN</td>\n",
       "      <td>1440</td>\n",
       "      <td>2.0</td>\n",
       "      <td>3.0</td>\n",
       "      <td>62.00</td>\n",
       "      <td>Anandnagar</td>\n",
       "    </tr>\n",
       "    <tr>\n",
       "      <th>3</th>\n",
       "      <td>Super built-up  Area</td>\n",
       "      <td>Ready To Move</td>\n",
       "      <td>3 BHK</td>\n",
       "      <td>Soiewre</td>\n",
       "      <td>1521</td>\n",
       "      <td>3.0</td>\n",
       "      <td>1.0</td>\n",
       "      <td>95.00</td>\n",
       "      <td>Aundh</td>\n",
       "    </tr>\n",
       "    <tr>\n",
       "      <th>4</th>\n",
       "      <td>Super built-up  Area</td>\n",
       "      <td>Ready To Move</td>\n",
       "      <td>2 BHK</td>\n",
       "      <td>NaN</td>\n",
       "      <td>1200</td>\n",
       "      <td>2.0</td>\n",
       "      <td>1.0</td>\n",
       "      <td>51.00</td>\n",
       "      <td>Aundh Road</td>\n",
       "    </tr>\n",
       "  </tbody>\n",
       "</table>\n",
       "</div>"
      ],
      "text/plain": [
       "              area_type   availability       size  society total_sqft  bath  \\\n",
       "0  Super built-up  Area         19-Dec      2 BHK  Coomee        1056   2.0   \n",
       "1            Plot  Area  Ready To Move  4 Bedroom  Theanmp       2600   5.0   \n",
       "2        Built-up  Area  Ready To Move      3 BHK      NaN       1440   2.0   \n",
       "3  Super built-up  Area  Ready To Move      3 BHK  Soiewre       1521   3.0   \n",
       "4  Super built-up  Area  Ready To Move      2 BHK      NaN       1200   2.0   \n",
       "\n",
       "   balcony   price    site_location  \n",
       "0      1.0   39.07      Alandi Road  \n",
       "1      3.0  120.00  Ambegaon Budruk  \n",
       "2      3.0   62.00       Anandnagar  \n",
       "3      1.0   95.00            Aundh  \n",
       "4      1.0   51.00       Aundh Road  "
      ]
     },
     "execution_count": 3,
     "metadata": {},
     "output_type": "execute_result"
    }
   ],
   "source": [
    "df1 = pd.read_csv(\"data/PuneHouseData.csv\")\n",
    "df1.head()"
   ]
  },
  {
   "cell_type": "code",
   "execution_count": 4,
   "id": "003460c1",
   "metadata": {
    "execution": {
     "iopub.execute_input": "2022-07-16T09:24:15.954041Z",
     "iopub.status.busy": "2022-07-16T09:24:15.953593Z",
     "iopub.status.idle": "2022-07-16T09:24:15.958910Z",
     "shell.execute_reply": "2022-07-16T09:24:15.958266Z"
    },
    "papermill": {
     "duration": 0.084335,
     "end_time": "2022-07-16T09:24:15.960694",
     "exception": false,
     "start_time": "2022-07-16T09:24:15.876359",
     "status": "completed"
    },
    "tags": []
   },
   "outputs": [
    {
     "data": {
      "text/plain": [
       "(13320, 9)"
      ]
     },
     "execution_count": 4,
     "metadata": {},
     "output_type": "execute_result"
    }
   ],
   "source": [
    "df1.shape"
   ]
  },
  {
   "cell_type": "code",
   "execution_count": 5,
   "id": "eec885ad",
   "metadata": {
    "execution": {
     "iopub.execute_input": "2022-07-16T09:24:16.113214Z",
     "iopub.status.busy": "2022-07-16T09:24:16.112547Z",
     "iopub.status.idle": "2022-07-16T09:24:16.117931Z",
     "shell.execute_reply": "2022-07-16T09:24:16.117270Z"
    },
    "papermill": {
     "duration": 0.083436,
     "end_time": "2022-07-16T09:24:16.119757",
     "exception": false,
     "start_time": "2022-07-16T09:24:16.036321",
     "status": "completed"
    },
    "tags": []
   },
   "outputs": [
    {
     "data": {
      "text/plain": [
       "Index(['area_type', 'availability', 'size', 'society', 'total_sqft', 'bath',\n",
       "       'balcony', 'price', 'site_location'],\n",
       "      dtype='object')"
      ]
     },
     "execution_count": 5,
     "metadata": {},
     "output_type": "execute_result"
    }
   ],
   "source": [
    "df1.columns"
   ]
  },
  {
   "cell_type": "code",
   "execution_count": 6,
   "id": "12b80899",
   "metadata": {
    "execution": {
     "iopub.execute_input": "2022-07-16T09:24:16.275674Z",
     "iopub.status.busy": "2022-07-16T09:24:16.274955Z",
     "iopub.status.idle": "2022-07-16T09:24:16.287875Z",
     "shell.execute_reply": "2022-07-16T09:24:16.287145Z"
    },
    "papermill": {
     "duration": 0.093048,
     "end_time": "2022-07-16T09:24:16.289546",
     "exception": false,
     "start_time": "2022-07-16T09:24:16.196498",
     "status": "completed"
    },
    "tags": []
   },
   "outputs": [
    {
     "data": {
      "text/plain": [
       "array(['Super built-up  Area', 'Plot  Area', 'Built-up  Area',\n",
       "       'Carpet  Area'], dtype=object)"
      ]
     },
     "execution_count": 6,
     "metadata": {},
     "output_type": "execute_result"
    }
   ],
   "source": [
    "df1['area_type'].unique()"
   ]
  },
  {
   "cell_type": "markdown",
   "id": "21d0ae32",
   "metadata": {
    "papermill": {
     "duration": 0.077271,
     "end_time": "2022-07-16T09:24:16.443846",
     "exception": false,
     "start_time": "2022-07-16T09:24:16.366575",
     "status": "completed"
    },
    "tags": []
   },
   "source": [
    "# Drop features that are not required to build our model"
   ]
  },
  {
   "cell_type": "code",
   "execution_count": 7,
   "id": "68670799",
   "metadata": {
    "execution": {
     "iopub.execute_input": "2022-07-16T09:24:16.599163Z",
     "iopub.status.busy": "2022-07-16T09:24:16.598885Z",
     "iopub.status.idle": "2022-07-16T09:24:16.608332Z",
     "shell.execute_reply": "2022-07-16T09:24:16.607601Z"
    },
    "papermill": {
     "duration": 0.088948,
     "end_time": "2022-07-16T09:24:16.610091",
     "exception": false,
     "start_time": "2022-07-16T09:24:16.521143",
     "status": "completed"
    },
    "tags": []
   },
   "outputs": [
    {
     "data": {
      "text/plain": [
       "(13320, 5)"
      ]
     },
     "execution_count": 7,
     "metadata": {},
     "output_type": "execute_result"
    }
   ],
   "source": [
    "df2 = df1.drop(['area_type','society','balcony','availability'],axis='columns')\n",
    "df2.shape"
   ]
  },
  {
   "cell_type": "markdown",
   "id": "5f9c3a80",
   "metadata": {
    "papermill": {
     "duration": 0.076826,
     "end_time": "2022-07-16T09:24:16.763461",
     "exception": false,
     "start_time": "2022-07-16T09:24:16.686635",
     "status": "completed"
    },
    "tags": []
   },
   "source": [
    "# Data Cleaning: Handle NA values"
   ]
  },
  {
   "cell_type": "code",
   "execution_count": 8,
   "id": "4ad8521d",
   "metadata": {
    "execution": {
     "iopub.execute_input": "2022-07-16T09:24:16.918956Z",
     "iopub.status.busy": "2022-07-16T09:24:16.918693Z",
     "iopub.status.idle": "2022-07-16T09:24:16.930295Z",
     "shell.execute_reply": "2022-07-16T09:24:16.929302Z"
    },
    "papermill": {
     "duration": 0.092278,
     "end_time": "2022-07-16T09:24:16.932967",
     "exception": false,
     "start_time": "2022-07-16T09:24:16.840689",
     "status": "completed"
    },
    "tags": []
   },
   "outputs": [
    {
     "data": {
      "text/plain": [
       "size             16\n",
       "total_sqft        0\n",
       "bath             73\n",
       "price             0\n",
       "site_location     1\n",
       "dtype: int64"
      ]
     },
     "execution_count": 8,
     "metadata": {},
     "output_type": "execute_result"
    }
   ],
   "source": [
    "df2.isnull().sum()"
   ]
  },
  {
   "cell_type": "code",
   "execution_count": 9,
   "id": "01db3d91",
   "metadata": {
    "execution": {
     "iopub.execute_input": "2022-07-16T09:24:17.102747Z",
     "iopub.status.busy": "2022-07-16T09:24:17.102504Z",
     "iopub.status.idle": "2022-07-16T09:24:17.121590Z",
     "shell.execute_reply": "2022-07-16T09:24:17.120798Z"
    },
    "papermill": {
     "duration": 0.099728,
     "end_time": "2022-07-16T09:24:17.123500",
     "exception": false,
     "start_time": "2022-07-16T09:24:17.023772",
     "status": "completed"
    },
    "tags": []
   },
   "outputs": [
    {
     "data": {
      "text/plain": [
       "size             0\n",
       "total_sqft       0\n",
       "bath             0\n",
       "price            0\n",
       "site_location    0\n",
       "dtype: int64"
      ]
     },
     "execution_count": 9,
     "metadata": {},
     "output_type": "execute_result"
    }
   ],
   "source": [
    "df3 = df2.dropna()\n",
    "df3.isnull().sum()"
   ]
  },
  {
   "cell_type": "code",
   "execution_count": 10,
   "id": "15bb520c",
   "metadata": {
    "execution": {
     "iopub.execute_input": "2022-07-16T09:24:17.282833Z",
     "iopub.status.busy": "2022-07-16T09:24:17.282580Z",
     "iopub.status.idle": "2022-07-16T09:24:17.287430Z",
     "shell.execute_reply": "2022-07-16T09:24:17.286806Z"
    },
    "papermill": {
     "duration": 0.087085,
     "end_time": "2022-07-16T09:24:17.289645",
     "exception": false,
     "start_time": "2022-07-16T09:24:17.202560",
     "status": "completed"
    },
    "tags": []
   },
   "outputs": [
    {
     "data": {
      "text/plain": [
       "(13246, 5)"
      ]
     },
     "execution_count": 10,
     "metadata": {},
     "output_type": "execute_result"
    }
   ],
   "source": [
    "df3.shape"
   ]
  },
  {
   "cell_type": "code",
   "execution_count": 11,
   "id": "7f3ebe4b",
   "metadata": {
    "execution": {
     "iopub.execute_input": "2022-07-16T09:24:17.450070Z",
     "iopub.status.busy": "2022-07-16T09:24:17.449339Z",
     "iopub.status.idle": "2022-07-16T09:24:17.456390Z",
     "shell.execute_reply": "2022-07-16T09:24:17.455629Z"
    },
    "papermill": {
     "duration": 0.08778,
     "end_time": "2022-07-16T09:24:17.458245",
     "exception": false,
     "start_time": "2022-07-16T09:24:17.370465",
     "status": "completed"
    },
    "tags": []
   },
   "outputs": [
    {
     "data": {
      "text/plain": [
       "array(['2 BHK', '4 Bedroom', '3 BHK', '4 BHK', '6 Bedroom', '3 Bedroom',\n",
       "       '1 BHK', '1 RK', '1 Bedroom', '8 Bedroom', '2 Bedroom',\n",
       "       '7 Bedroom', '5 BHK', '7 BHK', '6 BHK', '5 Bedroom', '11 BHK',\n",
       "       '9 BHK', '9 Bedroom', '27 BHK', '10 Bedroom', '11 Bedroom',\n",
       "       '10 BHK', '19 BHK', '16 BHK', '43 Bedroom', '14 BHK', '8 BHK',\n",
       "       '12 Bedroom', '13 BHK', '18 Bedroom'], dtype=object)"
      ]
     },
     "execution_count": 11,
     "metadata": {},
     "output_type": "execute_result"
    }
   ],
   "source": [
    "df3['size'].unique()"
   ]
  },
  {
   "cell_type": "code",
   "execution_count": 12,
   "id": "0b26a902",
   "metadata": {
    "execution": {
     "iopub.execute_input": "2022-07-16T09:24:17.615535Z",
     "iopub.status.busy": "2022-07-16T09:24:17.614964Z",
     "iopub.status.idle": "2022-07-16T09:24:17.638961Z",
     "shell.execute_reply": "2022-07-16T09:24:17.638270Z"
    },
    "papermill": {
     "duration": 0.105849,
     "end_time": "2022-07-16T09:24:17.641834",
     "exception": false,
     "start_time": "2022-07-16T09:24:17.535985",
     "status": "completed"
    },
    "tags": []
   },
   "outputs": [
    {
     "name": "stderr",
     "output_type": "stream",
     "text": [
      "C:\\Users\\Image\\AppData\\Local\\Temp\\ipykernel_6096\\3620022870.py:1: SettingWithCopyWarning: \n",
      "A value is trying to be set on a copy of a slice from a DataFrame.\n",
      "Try using .loc[row_indexer,col_indexer] = value instead\n",
      "\n",
      "See the caveats in the documentation: https://pandas.pydata.org/pandas-docs/stable/user_guide/indexing.html#returning-a-view-versus-a-copy\n",
      "  df3['bhk'] = df3['size'].apply(lambda x: int(x.split(' ')[0]))\n"
     ]
    },
    {
     "data": {
      "text/html": [
       "<div>\n",
       "<style scoped>\n",
       "    .dataframe tbody tr th:only-of-type {\n",
       "        vertical-align: middle;\n",
       "    }\n",
       "\n",
       "    .dataframe tbody tr th {\n",
       "        vertical-align: top;\n",
       "    }\n",
       "\n",
       "    .dataframe thead th {\n",
       "        text-align: right;\n",
       "    }\n",
       "</style>\n",
       "<table border=\"1\" class=\"dataframe\">\n",
       "  <thead>\n",
       "    <tr style=\"text-align: right;\">\n",
       "      <th></th>\n",
       "      <th>size</th>\n",
       "      <th>total_sqft</th>\n",
       "      <th>bath</th>\n",
       "      <th>price</th>\n",
       "      <th>site_location</th>\n",
       "      <th>bhk</th>\n",
       "    </tr>\n",
       "  </thead>\n",
       "  <tbody>\n",
       "    <tr>\n",
       "      <th>0</th>\n",
       "      <td>2 BHK</td>\n",
       "      <td>1056</td>\n",
       "      <td>2.0</td>\n",
       "      <td>39.07</td>\n",
       "      <td>Alandi Road</td>\n",
       "      <td>2</td>\n",
       "    </tr>\n",
       "    <tr>\n",
       "      <th>1</th>\n",
       "      <td>4 Bedroom</td>\n",
       "      <td>2600</td>\n",
       "      <td>5.0</td>\n",
       "      <td>120.00</td>\n",
       "      <td>Ambegaon Budruk</td>\n",
       "      <td>4</td>\n",
       "    </tr>\n",
       "    <tr>\n",
       "      <th>2</th>\n",
       "      <td>3 BHK</td>\n",
       "      <td>1440</td>\n",
       "      <td>2.0</td>\n",
       "      <td>62.00</td>\n",
       "      <td>Anandnagar</td>\n",
       "      <td>3</td>\n",
       "    </tr>\n",
       "    <tr>\n",
       "      <th>3</th>\n",
       "      <td>3 BHK</td>\n",
       "      <td>1521</td>\n",
       "      <td>3.0</td>\n",
       "      <td>95.00</td>\n",
       "      <td>Aundh</td>\n",
       "      <td>3</td>\n",
       "    </tr>\n",
       "    <tr>\n",
       "      <th>4</th>\n",
       "      <td>2 BHK</td>\n",
       "      <td>1200</td>\n",
       "      <td>2.0</td>\n",
       "      <td>51.00</td>\n",
       "      <td>Aundh Road</td>\n",
       "      <td>2</td>\n",
       "    </tr>\n",
       "  </tbody>\n",
       "</table>\n",
       "</div>"
      ],
      "text/plain": [
       "        size total_sqft  bath   price    site_location  bhk\n",
       "0      2 BHK       1056   2.0   39.07      Alandi Road    2\n",
       "1  4 Bedroom       2600   5.0  120.00  Ambegaon Budruk    4\n",
       "2      3 BHK       1440   2.0   62.00       Anandnagar    3\n",
       "3      3 BHK       1521   3.0   95.00            Aundh    3\n",
       "4      2 BHK       1200   2.0   51.00       Aundh Road    2"
      ]
     },
     "execution_count": 12,
     "metadata": {},
     "output_type": "execute_result"
    }
   ],
   "source": [
    "df3['bhk'] = df3['size'].apply(lambda x: int(x.split(' ')[0]))\n",
    "df3.head()"
   ]
  },
  {
   "cell_type": "code",
   "execution_count": 13,
   "id": "7c566f24",
   "metadata": {
    "execution": {
     "iopub.execute_input": "2022-07-16T09:24:17.807184Z",
     "iopub.status.busy": "2022-07-16T09:24:17.806886Z",
     "iopub.status.idle": "2022-07-16T09:24:17.812591Z",
     "shell.execute_reply": "2022-07-16T09:24:17.811939Z"
    },
    "papermill": {
     "duration": 0.088712,
     "end_time": "2022-07-16T09:24:17.814536",
     "exception": false,
     "start_time": "2022-07-16T09:24:17.725824",
     "status": "completed"
    },
    "tags": []
   },
   "outputs": [
    {
     "data": {
      "text/plain": [
       "array([ 2,  4,  3,  6,  1,  8,  7,  5, 11,  9, 27, 10, 19, 16, 43, 14, 12,\n",
       "       13, 18], dtype=int64)"
      ]
     },
     "execution_count": 13,
     "metadata": {},
     "output_type": "execute_result"
    }
   ],
   "source": [
    "df3.bhk.unique()"
   ]
  },
  {
   "cell_type": "code",
   "execution_count": 14,
   "id": "723e51f6",
   "metadata": {
    "execution": {
     "iopub.execute_input": "2022-07-16T09:24:17.975346Z",
     "iopub.status.busy": "2022-07-16T09:24:17.975140Z",
     "iopub.status.idle": "2022-07-16T09:24:17.981212Z",
     "shell.execute_reply": "2022-07-16T09:24:17.980477Z"
    },
    "papermill": {
     "duration": 0.089198,
     "end_time": "2022-07-16T09:24:17.982796",
     "exception": false,
     "start_time": "2022-07-16T09:24:17.893598",
     "status": "completed"
    },
    "tags": []
   },
   "outputs": [
    {
     "data": {
      "text/plain": [
       "array(['1056', '2600', '1440', ..., '1133 - 1384', '774', '4689'],\n",
       "      dtype=object)"
      ]
     },
     "execution_count": 14,
     "metadata": {},
     "output_type": "execute_result"
    }
   ],
   "source": [
    "#explore total_sqft feature\n",
    "\n",
    "df3.total_sqft.unique()"
   ]
  },
  {
   "cell_type": "code",
   "execution_count": 15,
   "id": "98a0c2cb",
   "metadata": {
    "execution": {
     "iopub.execute_input": "2022-07-16T09:24:18.144119Z",
     "iopub.status.busy": "2022-07-16T09:24:18.143447Z",
     "iopub.status.idle": "2022-07-16T09:24:18.147609Z",
     "shell.execute_reply": "2022-07-16T09:24:18.146924Z"
    },
    "papermill": {
     "duration": 0.086892,
     "end_time": "2022-07-16T09:24:18.149530",
     "exception": false,
     "start_time": "2022-07-16T09:24:18.062638",
     "status": "completed"
    },
    "tags": []
   },
   "outputs": [],
   "source": [
    "def is_float(x):\n",
    "    try:\n",
    "        float(x) \n",
    "    except:\n",
    "        return False\n",
    "    return True"
   ]
  },
  {
   "cell_type": "code",
   "execution_count": 16,
   "id": "30879f01",
   "metadata": {
    "execution": {
     "iopub.execute_input": "2022-07-16T09:24:18.312114Z",
     "iopub.status.busy": "2022-07-16T09:24:18.311878Z",
     "iopub.status.idle": "2022-07-16T09:24:18.331039Z",
     "shell.execute_reply": "2022-07-16T09:24:18.330291Z"
    },
    "papermill": {
     "duration": 0.103625,
     "end_time": "2022-07-16T09:24:18.332759",
     "exception": false,
     "start_time": "2022-07-16T09:24:18.229134",
     "status": "completed"
    },
    "tags": []
   },
   "outputs": [
    {
     "data": {
      "text/html": [
       "<div>\n",
       "<style scoped>\n",
       "    .dataframe tbody tr th:only-of-type {\n",
       "        vertical-align: middle;\n",
       "    }\n",
       "\n",
       "    .dataframe tbody tr th {\n",
       "        vertical-align: top;\n",
       "    }\n",
       "\n",
       "    .dataframe thead th {\n",
       "        text-align: right;\n",
       "    }\n",
       "</style>\n",
       "<table border=\"1\" class=\"dataframe\">\n",
       "  <thead>\n",
       "    <tr style=\"text-align: right;\">\n",
       "      <th></th>\n",
       "      <th>size</th>\n",
       "      <th>total_sqft</th>\n",
       "      <th>bath</th>\n",
       "      <th>price</th>\n",
       "      <th>site_location</th>\n",
       "      <th>bhk</th>\n",
       "    </tr>\n",
       "  </thead>\n",
       "  <tbody>\n",
       "    <tr>\n",
       "      <th>0</th>\n",
       "      <td>2 BHK</td>\n",
       "      <td>1056</td>\n",
       "      <td>2.0</td>\n",
       "      <td>39.07</td>\n",
       "      <td>Alandi Road</td>\n",
       "      <td>2</td>\n",
       "    </tr>\n",
       "    <tr>\n",
       "      <th>1</th>\n",
       "      <td>4 Bedroom</td>\n",
       "      <td>2600</td>\n",
       "      <td>5.0</td>\n",
       "      <td>120.00</td>\n",
       "      <td>Ambegaon Budruk</td>\n",
       "      <td>4</td>\n",
       "    </tr>\n",
       "    <tr>\n",
       "      <th>2</th>\n",
       "      <td>3 BHK</td>\n",
       "      <td>1440</td>\n",
       "      <td>2.0</td>\n",
       "      <td>62.00</td>\n",
       "      <td>Anandnagar</td>\n",
       "      <td>3</td>\n",
       "    </tr>\n",
       "    <tr>\n",
       "      <th>3</th>\n",
       "      <td>3 BHK</td>\n",
       "      <td>1521</td>\n",
       "      <td>3.0</td>\n",
       "      <td>95.00</td>\n",
       "      <td>Aundh</td>\n",
       "      <td>3</td>\n",
       "    </tr>\n",
       "    <tr>\n",
       "      <th>4</th>\n",
       "      <td>2 BHK</td>\n",
       "      <td>1200</td>\n",
       "      <td>2.0</td>\n",
       "      <td>51.00</td>\n",
       "      <td>Aundh Road</td>\n",
       "      <td>2</td>\n",
       "    </tr>\n",
       "    <tr>\n",
       "      <th>5</th>\n",
       "      <td>2 BHK</td>\n",
       "      <td>1170</td>\n",
       "      <td>2.0</td>\n",
       "      <td>38.00</td>\n",
       "      <td>Balaji Nagar</td>\n",
       "      <td>2</td>\n",
       "    </tr>\n",
       "    <tr>\n",
       "      <th>6</th>\n",
       "      <td>4 BHK</td>\n",
       "      <td>2732</td>\n",
       "      <td>4.0</td>\n",
       "      <td>204.00</td>\n",
       "      <td>Baner</td>\n",
       "      <td>4</td>\n",
       "    </tr>\n",
       "    <tr>\n",
       "      <th>7</th>\n",
       "      <td>4 BHK</td>\n",
       "      <td>3300</td>\n",
       "      <td>4.0</td>\n",
       "      <td>600.00</td>\n",
       "      <td>Baner road</td>\n",
       "      <td>4</td>\n",
       "    </tr>\n",
       "    <tr>\n",
       "      <th>8</th>\n",
       "      <td>3 BHK</td>\n",
       "      <td>1310</td>\n",
       "      <td>3.0</td>\n",
       "      <td>63.25</td>\n",
       "      <td>Bhandarkar Road</td>\n",
       "      <td>3</td>\n",
       "    </tr>\n",
       "    <tr>\n",
       "      <th>9</th>\n",
       "      <td>6 Bedroom</td>\n",
       "      <td>1020</td>\n",
       "      <td>6.0</td>\n",
       "      <td>370.00</td>\n",
       "      <td>Bhavani Peth</td>\n",
       "      <td>6</td>\n",
       "    </tr>\n",
       "  </tbody>\n",
       "</table>\n",
       "</div>"
      ],
      "text/plain": [
       "        size total_sqft  bath   price    site_location  bhk\n",
       "0      2 BHK       1056   2.0   39.07      Alandi Road    2\n",
       "1  4 Bedroom       2600   5.0  120.00  Ambegaon Budruk    4\n",
       "2      3 BHK       1440   2.0   62.00       Anandnagar    3\n",
       "3      3 BHK       1521   3.0   95.00            Aundh    3\n",
       "4      2 BHK       1200   2.0   51.00       Aundh Road    2\n",
       "5      2 BHK       1170   2.0   38.00     Balaji Nagar    2\n",
       "6      4 BHK       2732   4.0  204.00            Baner    4\n",
       "7      4 BHK       3300   4.0  600.00       Baner road    4\n",
       "8      3 BHK       1310   3.0   63.25  Bhandarkar Road    3\n",
       "9  6 Bedroom       1020   6.0  370.00     Bhavani Peth    6"
      ]
     },
     "execution_count": 16,
     "metadata": {},
     "output_type": "execute_result"
    }
   ],
   "source": [
    "df3[df3['total_sqft'].apply(is_float)].head(10)"
   ]
  },
  {
   "cell_type": "markdown",
   "id": "f22c853c",
   "metadata": {
    "papermill": {
     "duration": 0.079693,
     "end_time": "2022-07-16T09:24:18.495793",
     "exception": false,
     "start_time": "2022-07-16T09:24:18.416100",
     "status": "completed"
    },
    "tags": []
   },
   "source": [
    "# above shows that total_sqft can be a range(e.g 2100-2850). For such case we can just take avarage of min and max value in the range.There are other cases such as 34.46Sq.meter which one can convert to square ft using unit conversion. I am going to just drop such corner cases to keep things simple"
   ]
  },
  {
   "cell_type": "code",
   "execution_count": 17,
   "id": "f40f2ffa",
   "metadata": {
    "execution": {
     "iopub.execute_input": "2022-07-16T09:24:18.656833Z",
     "iopub.status.busy": "2022-07-16T09:24:18.656579Z",
     "iopub.status.idle": "2022-07-16T09:24:18.661324Z",
     "shell.execute_reply": "2022-07-16T09:24:18.660662Z"
    },
    "papermill": {
     "duration": 0.087659,
     "end_time": "2022-07-16T09:24:18.663023",
     "exception": false,
     "start_time": "2022-07-16T09:24:18.575364",
     "status": "completed"
    },
    "tags": []
   },
   "outputs": [],
   "source": [
    "def convert_range_to_num(x):\n",
    "    tokens = x.split('-')\n",
    "    if len(tokens) == 2:\n",
    "        return (float(tokens[0])+float(tokens[1]))/2\n",
    "    try:\n",
    "        return float(x)\n",
    "    except:\n",
    "        return None"
   ]
  },
  {
   "cell_type": "code",
   "execution_count": 18,
   "id": "fc8ec12f",
   "metadata": {
    "execution": {
     "iopub.execute_input": "2022-07-16T09:24:18.824024Z",
     "iopub.status.busy": "2022-07-16T09:24:18.823307Z",
     "iopub.status.idle": "2022-07-16T09:24:18.827131Z",
     "shell.execute_reply": "2022-07-16T09:24:18.826369Z"
    },
    "papermill": {
     "duration": 0.085987,
     "end_time": "2022-07-16T09:24:18.828814",
     "exception": false,
     "start_time": "2022-07-16T09:24:18.742827",
     "status": "completed"
    },
    "tags": []
   },
   "outputs": [],
   "source": [
    "num=convert_range_to_num('3700SQft')\n",
    "num"
   ]
  },
  {
   "cell_type": "code",
   "execution_count": 19,
   "id": "7b534aac",
   "metadata": {
    "execution": {
     "iopub.execute_input": "2022-07-16T09:24:18.989767Z",
     "iopub.status.busy": "2022-07-16T09:24:18.989544Z",
     "iopub.status.idle": "2022-07-16T09:24:19.013432Z",
     "shell.execute_reply": "2022-07-16T09:24:19.012584Z"
    },
    "papermill": {
     "duration": 0.107474,
     "end_time": "2022-07-16T09:24:19.015654",
     "exception": false,
     "start_time": "2022-07-16T09:24:18.908180",
     "status": "completed"
    },
    "tags": []
   },
   "outputs": [
    {
     "data": {
      "text/html": [
       "<div>\n",
       "<style scoped>\n",
       "    .dataframe tbody tr th:only-of-type {\n",
       "        vertical-align: middle;\n",
       "    }\n",
       "\n",
       "    .dataframe tbody tr th {\n",
       "        vertical-align: top;\n",
       "    }\n",
       "\n",
       "    .dataframe thead th {\n",
       "        text-align: right;\n",
       "    }\n",
       "</style>\n",
       "<table border=\"1\" class=\"dataframe\">\n",
       "  <thead>\n",
       "    <tr style=\"text-align: right;\">\n",
       "      <th></th>\n",
       "      <th>size</th>\n",
       "      <th>total_sqft</th>\n",
       "      <th>bath</th>\n",
       "      <th>price</th>\n",
       "      <th>site_location</th>\n",
       "      <th>bhk</th>\n",
       "    </tr>\n",
       "  </thead>\n",
       "  <tbody>\n",
       "    <tr>\n",
       "      <th>0</th>\n",
       "      <td>2 BHK</td>\n",
       "      <td>1056.0</td>\n",
       "      <td>2.0</td>\n",
       "      <td>39.07</td>\n",
       "      <td>Alandi Road</td>\n",
       "      <td>2</td>\n",
       "    </tr>\n",
       "    <tr>\n",
       "      <th>1</th>\n",
       "      <td>4 Bedroom</td>\n",
       "      <td>2600.0</td>\n",
       "      <td>5.0</td>\n",
       "      <td>120.00</td>\n",
       "      <td>Ambegaon Budruk</td>\n",
       "      <td>4</td>\n",
       "    </tr>\n",
       "  </tbody>\n",
       "</table>\n",
       "</div>"
      ],
      "text/plain": [
       "        size  total_sqft  bath   price    site_location  bhk\n",
       "0      2 BHK      1056.0   2.0   39.07      Alandi Road    2\n",
       "1  4 Bedroom      2600.0   5.0  120.00  Ambegaon Budruk    4"
      ]
     },
     "execution_count": 19,
     "metadata": {},
     "output_type": "execute_result"
    }
   ],
   "source": [
    "df4 = df3.copy()\n",
    "df4.total_sqft = df4.total_sqft.apply(convert_range_to_num)\n",
    "df4 = df4[df4.total_sqft.notnull()]\n",
    "df4.head(2)\n"
   ]
  },
  {
   "cell_type": "code",
   "execution_count": 20,
   "id": "0e39f1c7",
   "metadata": {
    "execution": {
     "iopub.execute_input": "2022-07-16T09:24:19.182501Z",
     "iopub.status.busy": "2022-07-16T09:24:19.181986Z",
     "iopub.status.idle": "2022-07-16T09:24:19.186583Z",
     "shell.execute_reply": "2022-07-16T09:24:19.185962Z"
    },
    "papermill": {
     "duration": 0.088356,
     "end_time": "2022-07-16T09:24:19.188327",
     "exception": false,
     "start_time": "2022-07-16T09:24:19.099971",
     "status": "completed"
    },
    "tags": []
   },
   "outputs": [
    {
     "data": {
      "text/plain": [
       "(13200, 6)"
      ]
     },
     "execution_count": 20,
     "metadata": {},
     "output_type": "execute_result"
    }
   ],
   "source": [
    "df4.shape"
   ]
  },
  {
   "cell_type": "markdown",
   "id": "9766186b",
   "metadata": {
    "papermill": {
     "duration": 0.080561,
     "end_time": "2022-07-16T09:24:19.349750",
     "exception": false,
     "start_time": "2022-07-16T09:24:19.269189",
     "status": "completed"
    },
    "tags": []
   },
   "source": [
    "for below row,it shows total_sqft as 1073.5 which is an avarage of the range 1042-1105"
   ]
  },
  {
   "cell_type": "code",
   "execution_count": 21,
   "id": "a3c67ac2",
   "metadata": {
    "execution": {
     "iopub.execute_input": "2022-07-16T09:24:19.512263Z",
     "iopub.status.busy": "2022-07-16T09:24:19.512039Z",
     "iopub.status.idle": "2022-07-16T09:24:19.519841Z",
     "shell.execute_reply": "2022-07-16T09:24:19.519139Z"
    },
    "papermill": {
     "duration": 0.09035,
     "end_time": "2022-07-16T09:24:19.521532",
     "exception": false,
     "start_time": "2022-07-16T09:24:19.431182",
     "status": "completed"
    },
    "tags": []
   },
   "outputs": [
    {
     "data": {
      "text/plain": [
       "size               2 BHK\n",
       "total_sqft        1073.5\n",
       "bath                 2.0\n",
       "price             54.005\n",
       "site_location    Khadaki\n",
       "bhk                    2\n",
       "Name: 137, dtype: object"
      ]
     },
     "execution_count": 21,
     "metadata": {},
     "output_type": "execute_result"
    }
   ],
   "source": [
    "df4.loc[137]"
   ]
  },
  {
   "cell_type": "code",
   "execution_count": 22,
   "id": "b8540191",
   "metadata": {
    "execution": {
     "iopub.execute_input": "2022-07-16T09:24:19.684173Z",
     "iopub.status.busy": "2022-07-16T09:24:19.683566Z",
     "iopub.status.idle": "2022-07-16T09:24:19.688269Z",
     "shell.execute_reply": "2022-07-16T09:24:19.687631Z"
    },
    "papermill": {
     "duration": 0.087765,
     "end_time": "2022-07-16T09:24:19.689938",
     "exception": false,
     "start_time": "2022-07-16T09:24:19.602173",
     "status": "completed"
    },
    "tags": []
   },
   "outputs": [
    {
     "data": {
      "text/plain": [
       "1073.5"
      ]
     },
     "execution_count": 22,
     "metadata": {},
     "output_type": "execute_result"
    }
   ],
   "source": [
    "(1042+1105)/2"
   ]
  },
  {
   "cell_type": "code",
   "execution_count": 23,
   "id": "88ab9bcb",
   "metadata": {
    "execution": {
     "iopub.execute_input": "2022-07-16T09:24:19.854167Z",
     "iopub.status.busy": "2022-07-16T09:24:19.853508Z",
     "iopub.status.idle": "2022-07-16T09:24:19.865278Z",
     "shell.execute_reply": "2022-07-16T09:24:19.864540Z"
    },
    "papermill": {
     "duration": 0.095933,
     "end_time": "2022-07-16T09:24:19.867015",
     "exception": false,
     "start_time": "2022-07-16T09:24:19.771082",
     "status": "completed"
    },
    "tags": []
   },
   "outputs": [
    {
     "data": {
      "text/html": [
       "<div>\n",
       "<style scoped>\n",
       "    .dataframe tbody tr th:only-of-type {\n",
       "        vertical-align: middle;\n",
       "    }\n",
       "\n",
       "    .dataframe tbody tr th {\n",
       "        vertical-align: top;\n",
       "    }\n",
       "\n",
       "    .dataframe thead th {\n",
       "        text-align: right;\n",
       "    }\n",
       "</style>\n",
       "<table border=\"1\" class=\"dataframe\">\n",
       "  <thead>\n",
       "    <tr style=\"text-align: right;\">\n",
       "      <th></th>\n",
       "      <th>size</th>\n",
       "      <th>total_sqft</th>\n",
       "      <th>bath</th>\n",
       "      <th>price</th>\n",
       "      <th>site_location</th>\n",
       "      <th>bhk</th>\n",
       "    </tr>\n",
       "  </thead>\n",
       "  <tbody>\n",
       "    <tr>\n",
       "      <th>0</th>\n",
       "      <td>2 BHK</td>\n",
       "      <td>1056.0</td>\n",
       "      <td>2.0</td>\n",
       "      <td>39.07</td>\n",
       "      <td>Alandi Road</td>\n",
       "      <td>2</td>\n",
       "    </tr>\n",
       "    <tr>\n",
       "      <th>1</th>\n",
       "      <td>4 Bedroom</td>\n",
       "      <td>2600.0</td>\n",
       "      <td>5.0</td>\n",
       "      <td>120.00</td>\n",
       "      <td>Ambegaon Budruk</td>\n",
       "      <td>4</td>\n",
       "    </tr>\n",
       "    <tr>\n",
       "      <th>2</th>\n",
       "      <td>3 BHK</td>\n",
       "      <td>1440.0</td>\n",
       "      <td>2.0</td>\n",
       "      <td>62.00</td>\n",
       "      <td>Anandnagar</td>\n",
       "      <td>3</td>\n",
       "    </tr>\n",
       "    <tr>\n",
       "      <th>3</th>\n",
       "      <td>3 BHK</td>\n",
       "      <td>1521.0</td>\n",
       "      <td>3.0</td>\n",
       "      <td>95.00</td>\n",
       "      <td>Aundh</td>\n",
       "      <td>3</td>\n",
       "    </tr>\n",
       "    <tr>\n",
       "      <th>4</th>\n",
       "      <td>2 BHK</td>\n",
       "      <td>1200.0</td>\n",
       "      <td>2.0</td>\n",
       "      <td>51.00</td>\n",
       "      <td>Aundh Road</td>\n",
       "      <td>2</td>\n",
       "    </tr>\n",
       "  </tbody>\n",
       "</table>\n",
       "</div>"
      ],
      "text/plain": [
       "        size  total_sqft  bath   price    site_location  bhk\n",
       "0      2 BHK      1056.0   2.0   39.07      Alandi Road    2\n",
       "1  4 Bedroom      2600.0   5.0  120.00  Ambegaon Budruk    4\n",
       "2      3 BHK      1440.0   2.0   62.00       Anandnagar    3\n",
       "3      3 BHK      1521.0   3.0   95.00            Aundh    3\n",
       "4      2 BHK      1200.0   2.0   51.00       Aundh Road    2"
      ]
     },
     "execution_count": 23,
     "metadata": {},
     "output_type": "execute_result"
    }
   ],
   "source": [
    "df4.head()"
   ]
  },
  {
   "cell_type": "markdown",
   "id": "798c565d",
   "metadata": {
    "papermill": {
     "duration": 0.081135,
     "end_time": "2022-07-16T09:24:20.032303",
     "exception": false,
     "start_time": "2022-07-16T09:24:19.951168",
     "status": "completed"
    },
    "tags": []
   },
   "source": [
    "# FEATURE ENGINEERING"
   ]
  },
  {
   "cell_type": "code",
   "execution_count": 24,
   "id": "3b997d0e",
   "metadata": {
    "execution": {
     "iopub.execute_input": "2022-07-16T09:24:20.198739Z",
     "iopub.status.busy": "2022-07-16T09:24:20.198498Z",
     "iopub.status.idle": "2022-07-16T09:24:20.212490Z",
     "shell.execute_reply": "2022-07-16T09:24:20.211762Z"
    },
    "papermill": {
     "duration": 0.097927,
     "end_time": "2022-07-16T09:24:20.214138",
     "exception": false,
     "start_time": "2022-07-16T09:24:20.116211",
     "status": "completed"
    },
    "tags": []
   },
   "outputs": [
    {
     "data": {
      "text/html": [
       "<div>\n",
       "<style scoped>\n",
       "    .dataframe tbody tr th:only-of-type {\n",
       "        vertical-align: middle;\n",
       "    }\n",
       "\n",
       "    .dataframe tbody tr th {\n",
       "        vertical-align: top;\n",
       "    }\n",
       "\n",
       "    .dataframe thead th {\n",
       "        text-align: right;\n",
       "    }\n",
       "</style>\n",
       "<table border=\"1\" class=\"dataframe\">\n",
       "  <thead>\n",
       "    <tr style=\"text-align: right;\">\n",
       "      <th></th>\n",
       "      <th>size</th>\n",
       "      <th>total_sqft</th>\n",
       "      <th>bath</th>\n",
       "      <th>price</th>\n",
       "      <th>site_location</th>\n",
       "      <th>bhk</th>\n",
       "      <th>price_per_sqft</th>\n",
       "    </tr>\n",
       "  </thead>\n",
       "  <tbody>\n",
       "    <tr>\n",
       "      <th>0</th>\n",
       "      <td>2 BHK</td>\n",
       "      <td>1056.0</td>\n",
       "      <td>2.0</td>\n",
       "      <td>39.07</td>\n",
       "      <td>Alandi Road</td>\n",
       "      <td>2</td>\n",
       "      <td>3699.810606</td>\n",
       "    </tr>\n",
       "    <tr>\n",
       "      <th>1</th>\n",
       "      <td>4 Bedroom</td>\n",
       "      <td>2600.0</td>\n",
       "      <td>5.0</td>\n",
       "      <td>120.00</td>\n",
       "      <td>Ambegaon Budruk</td>\n",
       "      <td>4</td>\n",
       "      <td>4615.384615</td>\n",
       "    </tr>\n",
       "    <tr>\n",
       "      <th>2</th>\n",
       "      <td>3 BHK</td>\n",
       "      <td>1440.0</td>\n",
       "      <td>2.0</td>\n",
       "      <td>62.00</td>\n",
       "      <td>Anandnagar</td>\n",
       "      <td>3</td>\n",
       "      <td>4305.555556</td>\n",
       "    </tr>\n",
       "    <tr>\n",
       "      <th>3</th>\n",
       "      <td>3 BHK</td>\n",
       "      <td>1521.0</td>\n",
       "      <td>3.0</td>\n",
       "      <td>95.00</td>\n",
       "      <td>Aundh</td>\n",
       "      <td>3</td>\n",
       "      <td>6245.890861</td>\n",
       "    </tr>\n",
       "    <tr>\n",
       "      <th>4</th>\n",
       "      <td>2 BHK</td>\n",
       "      <td>1200.0</td>\n",
       "      <td>2.0</td>\n",
       "      <td>51.00</td>\n",
       "      <td>Aundh Road</td>\n",
       "      <td>2</td>\n",
       "      <td>4250.000000</td>\n",
       "    </tr>\n",
       "  </tbody>\n",
       "</table>\n",
       "</div>"
      ],
      "text/plain": [
       "        size  total_sqft  bath   price    site_location  bhk  price_per_sqft\n",
       "0      2 BHK      1056.0   2.0   39.07      Alandi Road    2     3699.810606\n",
       "1  4 Bedroom      2600.0   5.0  120.00  Ambegaon Budruk    4     4615.384615\n",
       "2      3 BHK      1440.0   2.0   62.00       Anandnagar    3     4305.555556\n",
       "3      3 BHK      1521.0   3.0   95.00            Aundh    3     6245.890861\n",
       "4      2 BHK      1200.0   2.0   51.00       Aundh Road    2     4250.000000"
      ]
     },
     "execution_count": 24,
     "metadata": {},
     "output_type": "execute_result"
    }
   ],
   "source": [
    "#ADD NEW FEATURE CALLED PRICE PER SQUARE FEET\n",
    "df5 = df4.copy()\n",
    "df5['price_per_sqft'] = df5['price']*100000/df5['total_sqft']\n",
    "df5.head()"
   ]
  },
  {
   "cell_type": "code",
   "execution_count": 25,
   "id": "1442578e",
   "metadata": {
    "execution": {
     "iopub.execute_input": "2022-07-16T09:24:20.382957Z",
     "iopub.status.busy": "2022-07-16T09:24:20.382738Z",
     "iopub.status.idle": "2022-07-16T09:24:20.385656Z",
     "shell.execute_reply": "2022-07-16T09:24:20.385025Z"
    },
    "papermill": {
     "duration": 0.088045,
     "end_time": "2022-07-16T09:24:20.387226",
     "exception": false,
     "start_time": "2022-07-16T09:24:20.299181",
     "status": "completed"
    },
    "tags": []
   },
   "outputs": [],
   "source": [
    "#site_location is a CATAGORICAL VARIABLE. We need to apply dimensionality reduction\n",
    "#technique here to reduce number of locations"
   ]
  },
  {
   "cell_type": "code",
   "execution_count": 26,
   "id": "747149e2",
   "metadata": {
    "execution": {
     "iopub.execute_input": "2022-07-16T09:24:20.552774Z",
     "iopub.status.busy": "2022-07-16T09:24:20.552233Z",
     "iopub.status.idle": "2022-07-16T09:24:20.558192Z",
     "shell.execute_reply": "2022-07-16T09:24:20.557559Z"
    },
    "papermill": {
     "duration": 0.089945,
     "end_time": "2022-07-16T09:24:20.559752",
     "exception": false,
     "start_time": "2022-07-16T09:24:20.469807",
     "status": "completed"
    },
    "tags": []
   },
   "outputs": [
    {
     "data": {
      "text/plain": [
       "97"
      ]
     },
     "execution_count": 26,
     "metadata": {},
     "output_type": "execute_result"
    }
   ],
   "source": [
    "len(df5.site_location.unique())"
   ]
  },
  {
   "cell_type": "code",
   "execution_count": 27,
   "id": "1960f262",
   "metadata": {
    "execution": {
     "iopub.execute_input": "2022-07-16T09:24:20.728295Z",
     "iopub.status.busy": "2022-07-16T09:24:20.727630Z",
     "iopub.status.idle": "2022-07-16T09:24:20.734451Z",
     "shell.execute_reply": "2022-07-16T09:24:20.733792Z"
    },
    "papermill": {
     "duration": 0.092674,
     "end_time": "2022-07-16T09:24:20.736016",
     "exception": false,
     "start_time": "2022-07-16T09:24:20.643342",
     "status": "completed"
    },
    "tags": []
   },
   "outputs": [
    {
     "data": {
      "text/plain": [
       "0                 Alandi Road\n",
       "1             Ambegaon Budruk\n",
       "2                  Anandnagar\n",
       "3                       Aundh\n",
       "4                  Aundh Road\n",
       "                 ...         \n",
       "13315                  Pashan\n",
       "13316               Paud Road\n",
       "13317                Pirangut\n",
       "13318            Prabhat Road\n",
       "13319    Pune Railway Station\n",
       "Name: site_location, Length: 13200, dtype: object"
      ]
     },
     "execution_count": 27,
     "metadata": {},
     "output_type": "execute_result"
    }
   ],
   "source": [
    "df5.site_location"
   ]
  },
  {
   "cell_type": "code",
   "execution_count": 28,
   "id": "52584d13",
   "metadata": {
    "execution": {
     "iopub.execute_input": "2022-07-16T09:24:20.904249Z",
     "iopub.status.busy": "2022-07-16T09:24:20.903668Z",
     "iopub.status.idle": "2022-07-16T09:24:20.916802Z",
     "shell.execute_reply": "2022-07-16T09:24:20.916096Z"
    },
    "papermill": {
     "duration": 0.100061,
     "end_time": "2022-07-16T09:24:20.918452",
     "exception": false,
     "start_time": "2022-07-16T09:24:20.818391",
     "status": "completed"
    },
    "tags": []
   },
   "outputs": [
    {
     "name": "stderr",
     "output_type": "stream",
     "text": [
      "C:\\Users\\Image\\AppData\\Local\\Temp\\ipykernel_6096\\3526408824.py:1: UserWarning: Pandas doesn't allow columns to be created via a new attribute name - see https://pandas.pydata.org/pandas-docs/stable/indexing.html#attribute-access\n",
      "  df5.location = df5.site_location.apply(lambda x: x.strip())\n"
     ]
    },
    {
     "data": {
      "text/plain": [
       "Kasba Peth         139\n",
       "Bibvewadi          139\n",
       "Laxmi Road         139\n",
       "Ambegaon Budruk    139\n",
       "Nana Peth          139\n",
       "                  ... \n",
       "Fatima Nagar       135\n",
       "Model colony       135\n",
       "Wakadewadi         134\n",
       "Vadgaon Budruk     133\n",
       "other                1\n",
       "Name: site_location, Length: 97, dtype: int64"
      ]
     },
     "execution_count": 28,
     "metadata": {},
     "output_type": "execute_result"
    }
   ],
   "source": [
    "df5.location = df5.site_location.apply(lambda x: x.strip())\n",
    "location_stats =df5['site_location'].value_counts(ascending=False)\n",
    "location_stats\n"
   ]
  },
  {
   "cell_type": "code",
   "execution_count": 29,
   "id": "8fe68931",
   "metadata": {
    "execution": {
     "iopub.execute_input": "2022-07-16T09:24:21.086766Z",
     "iopub.status.busy": "2022-07-16T09:24:21.086264Z",
     "iopub.status.idle": "2022-07-16T09:24:21.090803Z",
     "shell.execute_reply": "2022-07-16T09:24:21.090144Z"
    },
    "papermill": {
     "duration": 0.090433,
     "end_time": "2022-07-16T09:24:21.092442",
     "exception": false,
     "start_time": "2022-07-16T09:24:21.002009",
     "status": "completed"
    },
    "tags": []
   },
   "outputs": [
    {
     "data": {
      "text/plain": [
       "97"
      ]
     },
     "execution_count": 29,
     "metadata": {},
     "output_type": "execute_result"
    }
   ],
   "source": [
    "len(location_stats)"
   ]
  },
  {
   "cell_type": "code",
   "execution_count": 30,
   "id": "24f168c0",
   "metadata": {
    "execution": {
     "iopub.execute_input": "2022-07-16T09:24:21.261512Z",
     "iopub.status.busy": "2022-07-16T09:24:21.261013Z",
     "iopub.status.idle": "2022-07-16T09:24:21.266439Z",
     "shell.execute_reply": "2022-07-16T09:24:21.265832Z"
    },
    "papermill": {
     "duration": 0.091545,
     "end_time": "2022-07-16T09:24:21.268145",
     "exception": false,
     "start_time": "2022-07-16T09:24:21.176600",
     "status": "completed"
    },
    "tags": []
   },
   "outputs": [
    {
     "data": {
      "text/plain": [
       "96"
      ]
     },
     "execution_count": 30,
     "metadata": {},
     "output_type": "execute_result"
    }
   ],
   "source": [
    "len(location_stats[location_stats>10])"
   ]
  },
  {
   "cell_type": "code",
   "execution_count": 31,
   "id": "c772e8a7",
   "metadata": {
    "execution": {
     "iopub.execute_input": "2022-07-16T09:24:21.439371Z",
     "iopub.status.busy": "2022-07-16T09:24:21.438785Z",
     "iopub.status.idle": "2022-07-16T09:24:21.443974Z",
     "shell.execute_reply": "2022-07-16T09:24:21.443330Z"
    },
    "papermill": {
     "duration": 0.092354,
     "end_time": "2022-07-16T09:24:21.445782",
     "exception": false,
     "start_time": "2022-07-16T09:24:21.353428",
     "status": "completed"
    },
    "tags": []
   },
   "outputs": [
    {
     "data": {
      "text/plain": [
       "1"
      ]
     },
     "execution_count": 31,
     "metadata": {},
     "output_type": "execute_result"
    }
   ],
   "source": [
    "len(location_stats[location_stats<=10])"
   ]
  },
  {
   "cell_type": "code",
   "execution_count": 32,
   "id": "8038d2b4",
   "metadata": {
    "execution": {
     "iopub.execute_input": "2022-07-16T09:24:21.615192Z",
     "iopub.status.busy": "2022-07-16T09:24:21.614992Z",
     "iopub.status.idle": "2022-07-16T09:24:21.620572Z",
     "shell.execute_reply": "2022-07-16T09:24:21.619956Z"
    },
    "papermill": {
     "duration": 0.092062,
     "end_time": "2022-07-16T09:24:21.622255",
     "exception": false,
     "start_time": "2022-07-16T09:24:21.530193",
     "status": "completed"
    },
    "tags": []
   },
   "outputs": [
    {
     "data": {
      "text/plain": [
       "other    1\n",
       "Name: site_location, dtype: int64"
      ]
     },
     "execution_count": 32,
     "metadata": {},
     "output_type": "execute_result"
    }
   ],
   "source": [
    "location_stats_less_than_10 = location_stats[location_stats<=10]\n",
    "location_stats_less_than_10"
   ]
  },
  {
   "cell_type": "code",
   "execution_count": 33,
   "id": "b128fcb7",
   "metadata": {
    "execution": {
     "iopub.execute_input": "2022-07-16T09:24:21.793605Z",
     "iopub.status.busy": "2022-07-16T09:24:21.793370Z",
     "iopub.status.idle": "2022-07-16T09:24:21.816780Z",
     "shell.execute_reply": "2022-07-16T09:24:21.816059Z"
    },
    "papermill": {
     "duration": 0.111506,
     "end_time": "2022-07-16T09:24:21.818454",
     "exception": false,
     "start_time": "2022-07-16T09:24:21.706948",
     "status": "completed"
    },
    "tags": []
   },
   "outputs": [
    {
     "data": {
      "text/plain": [
       "97"
      ]
     },
     "execution_count": 33,
     "metadata": {},
     "output_type": "execute_result"
    }
   ],
   "source": [
    "df5.location = df5.location.apply(lambda x: 'other' if x in location_stats_less_than_10 else x)\n",
    "len(df5.location.unique())"
   ]
  },
  {
   "cell_type": "code",
   "execution_count": 34,
   "id": "18eac0c1",
   "metadata": {
    "execution": {
     "iopub.execute_input": "2022-07-16T09:24:21.991119Z",
     "iopub.status.busy": "2022-07-16T09:24:21.990511Z",
     "iopub.status.idle": "2022-07-16T09:24:22.004773Z",
     "shell.execute_reply": "2022-07-16T09:24:22.004095Z"
    },
    "papermill": {
     "duration": 0.102423,
     "end_time": "2022-07-16T09:24:22.006648",
     "exception": false,
     "start_time": "2022-07-16T09:24:21.904225",
     "status": "completed"
    },
    "tags": []
   },
   "outputs": [
    {
     "data": {
      "text/html": [
       "<div>\n",
       "<style scoped>\n",
       "    .dataframe tbody tr th:only-of-type {\n",
       "        vertical-align: middle;\n",
       "    }\n",
       "\n",
       "    .dataframe tbody tr th {\n",
       "        vertical-align: top;\n",
       "    }\n",
       "\n",
       "    .dataframe thead th {\n",
       "        text-align: right;\n",
       "    }\n",
       "</style>\n",
       "<table border=\"1\" class=\"dataframe\">\n",
       "  <thead>\n",
       "    <tr style=\"text-align: right;\">\n",
       "      <th></th>\n",
       "      <th>size</th>\n",
       "      <th>total_sqft</th>\n",
       "      <th>bath</th>\n",
       "      <th>price</th>\n",
       "      <th>site_location</th>\n",
       "      <th>bhk</th>\n",
       "      <th>price_per_sqft</th>\n",
       "    </tr>\n",
       "  </thead>\n",
       "  <tbody>\n",
       "    <tr>\n",
       "      <th>0</th>\n",
       "      <td>2 BHK</td>\n",
       "      <td>1056.0</td>\n",
       "      <td>2.0</td>\n",
       "      <td>39.07</td>\n",
       "      <td>Alandi Road</td>\n",
       "      <td>2</td>\n",
       "      <td>3699.810606</td>\n",
       "    </tr>\n",
       "    <tr>\n",
       "      <th>1</th>\n",
       "      <td>4 Bedroom</td>\n",
       "      <td>2600.0</td>\n",
       "      <td>5.0</td>\n",
       "      <td>120.00</td>\n",
       "      <td>Ambegaon Budruk</td>\n",
       "      <td>4</td>\n",
       "      <td>4615.384615</td>\n",
       "    </tr>\n",
       "    <tr>\n",
       "      <th>2</th>\n",
       "      <td>3 BHK</td>\n",
       "      <td>1440.0</td>\n",
       "      <td>2.0</td>\n",
       "      <td>62.00</td>\n",
       "      <td>Anandnagar</td>\n",
       "      <td>3</td>\n",
       "      <td>4305.555556</td>\n",
       "    </tr>\n",
       "    <tr>\n",
       "      <th>3</th>\n",
       "      <td>3 BHK</td>\n",
       "      <td>1521.0</td>\n",
       "      <td>3.0</td>\n",
       "      <td>95.00</td>\n",
       "      <td>Aundh</td>\n",
       "      <td>3</td>\n",
       "      <td>6245.890861</td>\n",
       "    </tr>\n",
       "    <tr>\n",
       "      <th>4</th>\n",
       "      <td>2 BHK</td>\n",
       "      <td>1200.0</td>\n",
       "      <td>2.0</td>\n",
       "      <td>51.00</td>\n",
       "      <td>Aundh Road</td>\n",
       "      <td>2</td>\n",
       "      <td>4250.000000</td>\n",
       "    </tr>\n",
       "    <tr>\n",
       "      <th>5</th>\n",
       "      <td>2 BHK</td>\n",
       "      <td>1170.0</td>\n",
       "      <td>2.0</td>\n",
       "      <td>38.00</td>\n",
       "      <td>Balaji Nagar</td>\n",
       "      <td>2</td>\n",
       "      <td>3247.863248</td>\n",
       "    </tr>\n",
       "    <tr>\n",
       "      <th>6</th>\n",
       "      <td>4 BHK</td>\n",
       "      <td>2732.0</td>\n",
       "      <td>4.0</td>\n",
       "      <td>204.00</td>\n",
       "      <td>Baner</td>\n",
       "      <td>4</td>\n",
       "      <td>7467.057101</td>\n",
       "    </tr>\n",
       "    <tr>\n",
       "      <th>7</th>\n",
       "      <td>4 BHK</td>\n",
       "      <td>3300.0</td>\n",
       "      <td>4.0</td>\n",
       "      <td>600.00</td>\n",
       "      <td>Baner road</td>\n",
       "      <td>4</td>\n",
       "      <td>18181.818182</td>\n",
       "    </tr>\n",
       "    <tr>\n",
       "      <th>8</th>\n",
       "      <td>3 BHK</td>\n",
       "      <td>1310.0</td>\n",
       "      <td>3.0</td>\n",
       "      <td>63.25</td>\n",
       "      <td>Bhandarkar Road</td>\n",
       "      <td>3</td>\n",
       "      <td>4828.244275</td>\n",
       "    </tr>\n",
       "    <tr>\n",
       "      <th>9</th>\n",
       "      <td>6 Bedroom</td>\n",
       "      <td>1020.0</td>\n",
       "      <td>6.0</td>\n",
       "      <td>370.00</td>\n",
       "      <td>Bhavani Peth</td>\n",
       "      <td>6</td>\n",
       "      <td>36274.509804</td>\n",
       "    </tr>\n",
       "  </tbody>\n",
       "</table>\n",
       "</div>"
      ],
      "text/plain": [
       "        size  total_sqft  bath   price    site_location  bhk  price_per_sqft\n",
       "0      2 BHK      1056.0   2.0   39.07      Alandi Road    2     3699.810606\n",
       "1  4 Bedroom      2600.0   5.0  120.00  Ambegaon Budruk    4     4615.384615\n",
       "2      3 BHK      1440.0   2.0   62.00       Anandnagar    3     4305.555556\n",
       "3      3 BHK      1521.0   3.0   95.00            Aundh    3     6245.890861\n",
       "4      2 BHK      1200.0   2.0   51.00       Aundh Road    2     4250.000000\n",
       "5      2 BHK      1170.0   2.0   38.00     Balaji Nagar    2     3247.863248\n",
       "6      4 BHK      2732.0   4.0  204.00            Baner    4     7467.057101\n",
       "7      4 BHK      3300.0   4.0  600.00       Baner road    4    18181.818182\n",
       "8      3 BHK      1310.0   3.0   63.25  Bhandarkar Road    3     4828.244275\n",
       "9  6 Bedroom      1020.0   6.0  370.00     Bhavani Peth    6    36274.509804"
      ]
     },
     "execution_count": 34,
     "metadata": {},
     "output_type": "execute_result"
    }
   ],
   "source": [
    "df5.head(10)"
   ]
  },
  {
   "cell_type": "markdown",
   "id": "01425631",
   "metadata": {
    "papermill": {
     "duration": 0.085934,
     "end_time": "2022-07-16T09:24:22.179135",
     "exception": false,
     "start_time": "2022-07-16T09:24:22.093201",
     "status": "completed"
    },
    "tags": []
   },
   "source": [
    "# OUTLIER Removel Based on Bussiness logic"
   ]
  },
  {
   "cell_type": "code",
   "execution_count": 35,
   "id": "539cbf50",
   "metadata": {
    "execution": {
     "iopub.execute_input": "2022-07-16T09:24:22.352632Z",
     "iopub.status.busy": "2022-07-16T09:24:22.352383Z",
     "iopub.status.idle": "2022-07-16T09:24:22.355728Z",
     "shell.execute_reply": "2022-07-16T09:24:22.355053Z"
    },
    "papermill": {
     "duration": 0.093372,
     "end_time": "2022-07-16T09:24:22.357409",
     "exception": false,
     "start_time": "2022-07-16T09:24:22.264037",
     "status": "completed"
    },
    "tags": []
   },
   "outputs": [],
   "source": [
    "#Normally square ft per bedroom is 300 (i.e 2bhk apartment is minimum 600 sqft. \n",
    "#For example 400 sqft apartment with 2 bhk than that seems suspicious and can be removed as an outlier.\n",
    "#We will remove such outliers by keeping our minimum threshold per bhk to be 300 sqft"
   ]
  },
  {
   "cell_type": "code",
   "execution_count": 36,
   "id": "877928a7",
   "metadata": {
    "execution": {
     "iopub.execute_input": "2022-07-16T09:24:22.529863Z",
     "iopub.status.busy": "2022-07-16T09:24:22.529372Z",
     "iopub.status.idle": "2022-07-16T09:24:22.545486Z",
     "shell.execute_reply": "2022-07-16T09:24:22.544790Z"
    },
    "papermill": {
     "duration": 0.103588,
     "end_time": "2022-07-16T09:24:22.547150",
     "exception": false,
     "start_time": "2022-07-16T09:24:22.443562",
     "status": "completed"
    },
    "tags": []
   },
   "outputs": [
    {
     "data": {
      "text/html": [
       "<div>\n",
       "<style scoped>\n",
       "    .dataframe tbody tr th:only-of-type {\n",
       "        vertical-align: middle;\n",
       "    }\n",
       "\n",
       "    .dataframe tbody tr th {\n",
       "        vertical-align: top;\n",
       "    }\n",
       "\n",
       "    .dataframe thead th {\n",
       "        text-align: right;\n",
       "    }\n",
       "</style>\n",
       "<table border=\"1\" class=\"dataframe\">\n",
       "  <thead>\n",
       "    <tr style=\"text-align: right;\">\n",
       "      <th></th>\n",
       "      <th>size</th>\n",
       "      <th>total_sqft</th>\n",
       "      <th>bath</th>\n",
       "      <th>price</th>\n",
       "      <th>site_location</th>\n",
       "      <th>bhk</th>\n",
       "      <th>price_per_sqft</th>\n",
       "    </tr>\n",
       "  </thead>\n",
       "  <tbody>\n",
       "    <tr>\n",
       "      <th>9</th>\n",
       "      <td>6 Bedroom</td>\n",
       "      <td>1020.0</td>\n",
       "      <td>6.0</td>\n",
       "      <td>370.0</td>\n",
       "      <td>Bhavani Peth</td>\n",
       "      <td>6</td>\n",
       "      <td>36274.509804</td>\n",
       "    </tr>\n",
       "    <tr>\n",
       "      <th>45</th>\n",
       "      <td>8 Bedroom</td>\n",
       "      <td>600.0</td>\n",
       "      <td>9.0</td>\n",
       "      <td>200.0</td>\n",
       "      <td>Kondhwa Budruk</td>\n",
       "      <td>8</td>\n",
       "      <td>33333.333333</td>\n",
       "    </tr>\n",
       "    <tr>\n",
       "      <th>58</th>\n",
       "      <td>6 Bedroom</td>\n",
       "      <td>1407.0</td>\n",
       "      <td>4.0</td>\n",
       "      <td>150.0</td>\n",
       "      <td>Mundhawa</td>\n",
       "      <td>6</td>\n",
       "      <td>10660.980810</td>\n",
       "    </tr>\n",
       "    <tr>\n",
       "      <th>68</th>\n",
       "      <td>8 Bedroom</td>\n",
       "      <td>1350.0</td>\n",
       "      <td>7.0</td>\n",
       "      <td>85.0</td>\n",
       "      <td>Pirangut</td>\n",
       "      <td>8</td>\n",
       "      <td>6296.296296</td>\n",
       "    </tr>\n",
       "    <tr>\n",
       "      <th>70</th>\n",
       "      <td>3 Bedroom</td>\n",
       "      <td>500.0</td>\n",
       "      <td>3.0</td>\n",
       "      <td>100.0</td>\n",
       "      <td>Pune Railway Station</td>\n",
       "      <td>3</td>\n",
       "      <td>20000.000000</td>\n",
       "    </tr>\n",
       "    <tr>\n",
       "      <th>78</th>\n",
       "      <td>2 BHK</td>\n",
       "      <td>460.0</td>\n",
       "      <td>1.0</td>\n",
       "      <td>22.0</td>\n",
       "      <td>Senapati Bapat Road</td>\n",
       "      <td>2</td>\n",
       "      <td>4782.608696</td>\n",
       "    </tr>\n",
       "    <tr>\n",
       "      <th>89</th>\n",
       "      <td>6 Bedroom</td>\n",
       "      <td>710.0</td>\n",
       "      <td>6.0</td>\n",
       "      <td>160.0</td>\n",
       "      <td>Viman Nagar</td>\n",
       "      <td>6</td>\n",
       "      <td>22535.211268</td>\n",
       "    </tr>\n",
       "    <tr>\n",
       "      <th>119</th>\n",
       "      <td>2 Bedroom</td>\n",
       "      <td>276.0</td>\n",
       "      <td>3.0</td>\n",
       "      <td>23.0</td>\n",
       "      <td>Fatima Nagar</td>\n",
       "      <td>2</td>\n",
       "      <td>8333.333333</td>\n",
       "    </tr>\n",
       "    <tr>\n",
       "      <th>129</th>\n",
       "      <td>7 Bedroom</td>\n",
       "      <td>950.0</td>\n",
       "      <td>7.0</td>\n",
       "      <td>115.0</td>\n",
       "      <td>Hadapsar Industrial Estate</td>\n",
       "      <td>7</td>\n",
       "      <td>12105.263158</td>\n",
       "    </tr>\n",
       "    <tr>\n",
       "      <th>149</th>\n",
       "      <td>6 Bedroom</td>\n",
       "      <td>1034.0</td>\n",
       "      <td>5.0</td>\n",
       "      <td>185.0</td>\n",
       "      <td>Mangalwar peth</td>\n",
       "      <td>6</td>\n",
       "      <td>17891.682785</td>\n",
       "    </tr>\n",
       "  </tbody>\n",
       "</table>\n",
       "</div>"
      ],
      "text/plain": [
       "          size  total_sqft  bath  price               site_location  bhk  \\\n",
       "9    6 Bedroom      1020.0   6.0  370.0                Bhavani Peth    6   \n",
       "45   8 Bedroom       600.0   9.0  200.0              Kondhwa Budruk    8   \n",
       "58   6 Bedroom      1407.0   4.0  150.0                    Mundhawa    6   \n",
       "68   8 Bedroom      1350.0   7.0   85.0                    Pirangut    8   \n",
       "70   3 Bedroom       500.0   3.0  100.0        Pune Railway Station    3   \n",
       "78       2 BHK       460.0   1.0   22.0         Senapati Bapat Road    2   \n",
       "89   6 Bedroom       710.0   6.0  160.0                 Viman Nagar    6   \n",
       "119  2 Bedroom       276.0   3.0   23.0                Fatima Nagar    2   \n",
       "129  7 Bedroom       950.0   7.0  115.0  Hadapsar Industrial Estate    7   \n",
       "149  6 Bedroom      1034.0   5.0  185.0              Mangalwar peth    6   \n",
       "\n",
       "     price_per_sqft  \n",
       "9      36274.509804  \n",
       "45     33333.333333  \n",
       "58     10660.980810  \n",
       "68      6296.296296  \n",
       "70     20000.000000  \n",
       "78      4782.608696  \n",
       "89     22535.211268  \n",
       "119     8333.333333  \n",
       "129    12105.263158  \n",
       "149    17891.682785  "
      ]
     },
     "execution_count": 36,
     "metadata": {},
     "output_type": "execute_result"
    }
   ],
   "source": [
    "df5[df5.total_sqft/df5.bhk<300].head(10)"
   ]
  },
  {
   "cell_type": "code",
   "execution_count": 37,
   "id": "0e19d856",
   "metadata": {
    "execution": {
     "iopub.execute_input": "2022-07-16T09:24:22.721629Z",
     "iopub.status.busy": "2022-07-16T09:24:22.720999Z",
     "iopub.status.idle": "2022-07-16T09:24:22.724352Z",
     "shell.execute_reply": "2022-07-16T09:24:22.723606Z"
    },
    "papermill": {
     "duration": 0.091491,
     "end_time": "2022-07-16T09:24:22.726034",
     "exception": false,
     "start_time": "2022-07-16T09:24:22.634543",
     "status": "completed"
    },
    "tags": []
   },
   "outputs": [],
   "source": [
    "#We have 6 bhk apartment with 1020 sqft.Another one is 8 bhk and total sqft is 600. \n",
    "#These are clear data errors that can be removed safely"
   ]
  },
  {
   "cell_type": "code",
   "execution_count": 38,
   "id": "85f78370",
   "metadata": {
    "execution": {
     "iopub.execute_input": "2022-07-16T09:24:22.908258Z",
     "iopub.status.busy": "2022-07-16T09:24:22.907759Z",
     "iopub.status.idle": "2022-07-16T09:24:22.912680Z",
     "shell.execute_reply": "2022-07-16T09:24:22.912025Z"
    },
    "papermill": {
     "duration": 0.102279,
     "end_time": "2022-07-16T09:24:22.914344",
     "exception": false,
     "start_time": "2022-07-16T09:24:22.812065",
     "status": "completed"
    },
    "tags": []
   },
   "outputs": [
    {
     "data": {
      "text/plain": [
       "(13200, 7)"
      ]
     },
     "execution_count": 38,
     "metadata": {},
     "output_type": "execute_result"
    }
   ],
   "source": [
    "df5.shape"
   ]
  },
  {
   "cell_type": "code",
   "execution_count": 39,
   "id": "49355592",
   "metadata": {
    "execution": {
     "iopub.execute_input": "2022-07-16T09:24:23.089488Z",
     "iopub.status.busy": "2022-07-16T09:24:23.088990Z",
     "iopub.status.idle": "2022-07-16T09:24:23.096773Z",
     "shell.execute_reply": "2022-07-16T09:24:23.096085Z"
    },
    "papermill": {
     "duration": 0.097178,
     "end_time": "2022-07-16T09:24:23.098802",
     "exception": false,
     "start_time": "2022-07-16T09:24:23.001624",
     "status": "completed"
    },
    "tags": []
   },
   "outputs": [
    {
     "data": {
      "text/plain": [
       "(12456, 7)"
      ]
     },
     "execution_count": 39,
     "metadata": {},
     "output_type": "execute_result"
    }
   ],
   "source": [
    "df6 = df5[~(df5.total_sqft/df5.bhk<300)]\n",
    "df6.shape"
   ]
  },
  {
   "cell_type": "markdown",
   "id": "2e1bbda7",
   "metadata": {
    "papermill": {
     "duration": 0.085637,
     "end_time": "2022-07-16T09:24:23.273896",
     "exception": false,
     "start_time": "2022-07-16T09:24:23.188259",
     "status": "completed"
    },
    "tags": []
   },
   "source": [
    "# Outlier Removel Using Standard Deviation and Mean"
   ]
  },
  {
   "cell_type": "code",
   "execution_count": 40,
   "id": "db5ac683",
   "metadata": {
    "execution": {
     "iopub.execute_input": "2022-07-16T09:24:23.448825Z",
     "iopub.status.busy": "2022-07-16T09:24:23.448582Z",
     "iopub.status.idle": "2022-07-16T09:24:23.459455Z",
     "shell.execute_reply": "2022-07-16T09:24:23.458726Z"
    },
    "papermill": {
     "duration": 0.099457,
     "end_time": "2022-07-16T09:24:23.461117",
     "exception": false,
     "start_time": "2022-07-16T09:24:23.361660",
     "status": "completed"
    },
    "tags": []
   },
   "outputs": [
    {
     "data": {
      "text/plain": [
       "count     12456.000000\n",
       "mean       6308.628922\n",
       "std        4168.075333\n",
       "min         267.829813\n",
       "25%        4210.526316\n",
       "50%        5294.117647\n",
       "75%        6916.666667\n",
       "max      176470.588235\n",
       "Name: price_per_sqft, dtype: float64"
      ]
     },
     "execution_count": 40,
     "metadata": {},
     "output_type": "execute_result"
    }
   ],
   "source": [
    "df6.price_per_sqft.describe()"
   ]
  },
  {
   "cell_type": "code",
   "execution_count": 41,
   "id": "3065dbf9",
   "metadata": {
    "execution": {
     "iopub.execute_input": "2022-07-16T09:24:23.637253Z",
     "iopub.status.busy": "2022-07-16T09:24:23.636653Z",
     "iopub.status.idle": "2022-07-16T09:24:23.640021Z",
     "shell.execute_reply": "2022-07-16T09:24:23.639342Z"
    },
    "papermill": {
     "duration": 0.092129,
     "end_time": "2022-07-16T09:24:23.641594",
     "exception": false,
     "start_time": "2022-07-16T09:24:23.549465",
     "status": "completed"
    },
    "tags": []
   },
   "outputs": [],
   "source": [
    "#here we find that min price per sqft is 267 rs/sqft whereas max is 176470\n",
    "#this shows a wide variation in property prices.We should remove outliers per location\n",
    "#using mean and one standard deviation"
   ]
  },
  {
   "cell_type": "code",
   "execution_count": 42,
   "id": "0bca8ff2",
   "metadata": {
    "execution": {
     "iopub.execute_input": "2022-07-16T09:24:23.816364Z",
     "iopub.status.busy": "2022-07-16T09:24:23.815648Z",
     "iopub.status.idle": "2022-07-16T09:24:24.042245Z",
     "shell.execute_reply": "2022-07-16T09:24:24.041559Z"
    },
    "papermill": {
     "duration": 0.316586,
     "end_time": "2022-07-16T09:24:24.044023",
     "exception": false,
     "start_time": "2022-07-16T09:24:23.727437",
     "status": "completed"
    },
    "tags": []
   },
   "outputs": [
    {
     "data": {
      "text/plain": [
       "(10883, 7)"
      ]
     },
     "execution_count": 42,
     "metadata": {},
     "output_type": "execute_result"
    }
   ],
   "source": [
    "def remove_pps_outliers(df):\n",
    "    df_out = pd.DataFrame()\n",
    "    for key, subdf in df.groupby('site_location'):\n",
    "        m = np.mean(subdf.price_per_sqft)\n",
    "        st = np.std(subdf.price_per_sqft)\n",
    "        reduced_df = subdf[(subdf.price_per_sqft>(m-st)) & (subdf.price_per_sqft<=(m+st))]\n",
    "        df_out = pd.concat([df_out,reduced_df],ignore_index=True)\n",
    "    return df_out\n",
    "df7 = remove_pps_outliers(df6)\n",
    "df7.shape"
   ]
  },
  {
   "cell_type": "code",
   "execution_count": 43,
   "id": "717e75a7",
   "metadata": {
    "execution": {
     "iopub.execute_input": "2022-07-16T09:24:24.219828Z",
     "iopub.status.busy": "2022-07-16T09:24:24.219587Z",
     "iopub.status.idle": "2022-07-16T09:24:24.493499Z",
     "shell.execute_reply": "2022-07-16T09:24:24.492760Z"
    },
    "papermill": {
     "duration": 0.364066,
     "end_time": "2022-07-16T09:24:24.495535",
     "exception": false,
     "start_time": "2022-07-16T09:24:24.131469",
     "status": "completed"
    },
    "tags": []
   },
   "outputs": [
    {
     "data": {
      "text/plain": [
       "Text(0, 0.5, 'Count')"
      ]
     },
     "execution_count": 43,
     "metadata": {},
     "output_type": "execute_result"
    },
    {
     "data": {
      "image/png": "[encoded data removed]",
      "text/plain": [
       "<Figure size 1440x720 with 1 Axes>"
      ]
     },
     "metadata": {
      "needs_background": "light"
     },
     "output_type": "display_data"
    }
   ],
   "source": [
    "import matplotlib\n",
    "matplotlib.rcParams[\"figure.figsize\"] = (20,10)\n",
    "plt.hist(df7.price_per_sqft,rwidth=0.8)\n",
    "plt.xlabel(\"Price Per Square Feet\")\n",
    "plt.ylabel(\"Count\")"
   ]
  },
  {
   "cell_type": "code",
   "execution_count": 44,
   "id": "8c489146",
   "metadata": {
    "execution": {
     "iopub.execute_input": "2022-07-16T09:24:24.674251Z",
     "iopub.status.busy": "2022-07-16T09:24:24.674007Z",
     "iopub.status.idle": "2022-07-16T09:24:24.950099Z",
     "shell.execute_reply": "2022-07-16T09:24:24.949256Z"
    },
    "papermill": {
     "duration": 0.367521,
     "end_time": "2022-07-16T09:24:24.952180",
     "exception": false,
     "start_time": "2022-07-16T09:24:24.584659",
     "status": "completed"
    },
    "tags": []
   },
   "outputs": [
    {
     "data": {
      "image/png": "[encoded data removed]",
      "text/plain": [
       "<Figure size 1080x720 with 1 Axes>"
      ]
     },
     "metadata": {
      "needs_background": "light"
     },
     "output_type": "display_data"
    }
   ],
   "source": [
    "#Lets check if for a given location how does the 2 BHK property look like\n",
    "def plot_scatter_chart(df,location):\n",
    "    bhk2 = df[(df.site_location==location) & (df.bhk==2)]\n",
    "    bhk3 = df[(df.site_location==location) & (df.bhk==3)]\n",
    "    matplotlib.rcParams['figure.figsize'] = (15,10)\n",
    "    plt.scatter(bhk2.total_sqft,bhk2.price,color='blue',label='2 BHK', s=50)\n",
    "    plt.scatter(bhk3.total_sqft,bhk3.price,marker='+',color='green',label='3 BHK', s=50)\n",
    "    plt.xlabel(\"Total Square Feet Area\")\n",
    "    plt.ylabel(\"Price(Lac Indian Rupees)\")\n",
    "    plt.title(location)\n",
    "    plt.legend()\n",
    "    \n",
    "plot_scatter_chart(df7,\"Baner road\")"
   ]
  },
  {
   "cell_type": "code",
   "execution_count": 45,
   "id": "506757d5",
   "metadata": {
    "execution": {
     "iopub.execute_input": "2022-07-16T09:24:25.135141Z",
     "iopub.status.busy": "2022-07-16T09:24:25.134879Z",
     "iopub.status.idle": "2022-07-16T09:24:25.381892Z",
     "shell.execute_reply": "2022-07-16T09:24:25.381227Z"
    },
    "papermill": {
     "duration": 0.341035,
     "end_time": "2022-07-16T09:24:25.383839",
     "exception": false,
     "start_time": "2022-07-16T09:24:25.042804",
     "status": "completed"
    },
    "tags": []
   },
   "outputs": [
    {
     "data": {
      "image/png": "[encoded data removed]",
      "text/plain": [
       "<Figure size 1080x720 with 1 Axes>"
      ]
     },
     "metadata": {
      "needs_background": "light"
     },
     "output_type": "display_data"
    }
   ],
   "source": [
    "plot_scatter_chart(df7,\"Pune Railway Station\")"
   ]
  },
  {
   "cell_type": "code",
   "execution_count": 46,
   "id": "7e36258d",
   "metadata": {
    "execution": {
     "iopub.execute_input": "2022-07-16T09:24:25.566284Z",
     "iopub.status.busy": "2022-07-16T09:24:25.566033Z",
     "iopub.status.idle": "2022-07-16T09:24:25.853324Z",
     "shell.execute_reply": "2022-07-16T09:24:25.852588Z"
    },
    "papermill": {
     "duration": 0.382412,
     "end_time": "2022-07-16T09:24:25.857390",
     "exception": false,
     "start_time": "2022-07-16T09:24:25.474978",
     "status": "completed"
    },
    "tags": []
   },
   "outputs": [
    {
     "data": {
      "image/png": "[encoded data removed]",
      "text/plain": [
       "<Figure size 1080x720 with 1 Axes>"
      ]
     },
     "metadata": {
      "needs_background": "light"
     },
     "output_type": "display_data"
    }
   ],
   "source": [
    "plot_scatter_chart(df7,\"Viman Nagar\")"
   ]
  },
  {
   "cell_type": "code",
   "execution_count": 47,
   "id": "4ffc50b4",
   "metadata": {
    "execution": {
     "iopub.execute_input": "2022-07-16T09:24:26.189851Z",
     "iopub.status.busy": "2022-07-16T09:24:26.189444Z",
     "iopub.status.idle": "2022-07-16T09:24:26.692459Z",
     "shell.execute_reply": "2022-07-16T09:24:26.691772Z"
    },
    "papermill": {
     "duration": 0.663412,
     "end_time": "2022-07-16T09:24:26.694305",
     "exception": false,
     "start_time": "2022-07-16T09:24:26.030893",
     "status": "completed"
    },
    "tags": []
   },
   "outputs": [
    {
     "data": {
      "text/plain": [
       "(7543, 7)"
      ]
     },
     "execution_count": 47,
     "metadata": {},
     "output_type": "execute_result"
    }
   ],
   "source": [
    "#now we can\n",
    "def remove_bhk_outliers(df):\n",
    "    exclude_indices = np.array([])\n",
    "    for location, location_df in df.groupby('site_location'):\n",
    "        global bhk_stats\n",
    "        bhk_stats = {}\n",
    "        for bhk, bhk_df in location_df.groupby('bhk'):\n",
    "            bhk_stats[bhk] = {\n",
    "                'mean': np.mean(bhk_df.price_per_sqft),\n",
    "                'std': np.std(bhk_df.price_per_sqft),\n",
    "                'count': bhk_df.shape[0]\n",
    "            }\n",
    "        for bhk, bhk_df in location_df.groupby('bhk'):\n",
    "            stats = bhk_stats.get(bhk-1)\n",
    "            if stats and stats['count']>5:\n",
    "                exclude_indices = np.append(exclude_indices, bhk_df[bhk_df.price_per_sqft<(stats['mean'])].index.values)\n",
    "    return df.drop(exclude_indices,axis='index')\n",
    "df8 = remove_bhk_outliers(df7)\n",
    "# df8 = df7.copy()\n",
    "df8.shape"
   ]
  },
  {
   "cell_type": "code",
   "execution_count": 48,
   "id": "df1855db",
   "metadata": {
    "execution": {
     "iopub.execute_input": "2022-07-16T09:24:26.881450Z",
     "iopub.status.busy": "2022-07-16T09:24:26.881236Z",
     "iopub.status.idle": "2022-07-16T09:24:26.887654Z",
     "shell.execute_reply": "2022-07-16T09:24:26.886894Z"
    },
    "papermill": {
     "duration": 0.10136,
     "end_time": "2022-07-16T09:24:26.890251",
     "exception": false,
     "start_time": "2022-07-16T09:24:26.788891",
     "status": "completed"
    },
    "tags": []
   },
   "outputs": [
    {
     "data": {
      "text/plain": [
       "{1: {'mean': 5101.860565345225, 'std': 1574.9456912922271, 'count': 9},\n",
       " 2: {'mean': 5017.996768670127, 'std': 1263.4744464198877, 'count': 57},\n",
       " 3: {'mean': 5507.2093063432985, 'std': 1574.379979996744, 'count': 45},\n",
       " 4: {'mean': 6570.275214143422, 'std': 1226.9799889063286, 'count': 5},\n",
       " 5: {'mean': 4765.754392267844, 'std': 2335.44540564718, 'count': 4},\n",
       " 6: {'mean': 2802.857142857143, 'std': 482.8571428571429, 'count': 2},\n",
       " 7: {'mean': 5925.925925925926, 'std': 0.0, 'count': 1},\n",
       " 8: {'mean': 3666.6666666666665, 'std': 0.0, 'count': 1}}"
      ]
     },
     "execution_count": 48,
     "metadata": {},
     "output_type": "execute_result"
    }
   ],
   "source": [
    "bhk_stats"
   ]
  },
  {
   "cell_type": "code",
   "execution_count": 49,
   "id": "cda8b2d2",
   "metadata": {
    "execution": {
     "iopub.execute_input": "2022-07-16T09:24:27.074967Z",
     "iopub.status.busy": "2022-07-16T09:24:27.074712Z",
     "iopub.status.idle": "2022-07-16T09:24:27.079594Z",
     "shell.execute_reply": "2022-07-16T09:24:27.078960Z"
    },
    "papermill": {
     "duration": 0.099313,
     "end_time": "2022-07-16T09:24:27.081421",
     "exception": false,
     "start_time": "2022-07-16T09:24:26.982108",
     "status": "completed"
    },
    "tags": []
   },
   "outputs": [
    {
     "data": {
      "text/plain": [
       "{'mean': 5017.996768670127, 'std': 1263.4744464198877, 'count': 57}"
      ]
     },
     "execution_count": 49,
     "metadata": {},
     "output_type": "execute_result"
    }
   ],
   "source": [
    "bhk_stats.get(2)"
   ]
  },
  {
   "cell_type": "markdown",
   "id": "854abaf3",
   "metadata": {
    "papermill": {
     "duration": 0.092101,
     "end_time": "2022-07-16T09:24:27.265634",
     "exception": false,
     "start_time": "2022-07-16T09:24:27.173533",
     "status": "completed"
    },
    "tags": []
   },
   "source": [
    "# plot some scatter chart again to visualize price_per_sqft for 2 BHK and 3 BHK Properties"
   ]
  },
  {
   "cell_type": "code",
   "execution_count": 50,
   "id": "199935e6",
   "metadata": {
    "execution": {
     "iopub.execute_input": "2022-07-16T09:24:27.451468Z",
     "iopub.status.busy": "2022-07-16T09:24:27.451229Z",
     "iopub.status.idle": "2022-07-16T09:24:27.709416Z",
     "shell.execute_reply": "2022-07-16T09:24:27.708588Z"
    },
    "papermill": {
     "duration": 0.353579,
     "end_time": "2022-07-16T09:24:27.711618",
     "exception": false,
     "start_time": "2022-07-16T09:24:27.358039",
     "status": "completed"
    },
    "tags": []
   },
   "outputs": [
    {
     "data": {
      "image/png": "[encoded data removed]",
      "text/plain": [
       "<Figure size 1080x720 with 1 Axes>"
      ]
     },
     "metadata": {
      "needs_background": "light"
     },
     "output_type": "display_data"
    }
   ],
   "source": [
    "plot_scatter_chart(df8,\"Baner road\")"
   ]
  },
  {
   "cell_type": "code",
   "execution_count": 51,
   "id": "3f0907ed",
   "metadata": {
    "execution": {
     "iopub.execute_input": "2022-07-16T09:24:27.901255Z",
     "iopub.status.busy": "2022-07-16T09:24:27.901018Z",
     "iopub.status.idle": "2022-07-16T09:24:28.156245Z",
     "shell.execute_reply": "2022-07-16T09:24:28.155565Z"
    },
    "papermill": {
     "duration": 0.351596,
     "end_time": "2022-07-16T09:24:28.158008",
     "exception": false,
     "start_time": "2022-07-16T09:24:27.806412",
     "status": "completed"
    },
    "tags": []
   },
   "outputs": [
    {
     "data": {
      "image/png": "[encoded data removed]",
      "text/plain": [
       "<Figure size 1080x720 with 1 Axes>"
      ]
     },
     "metadata": {
      "needs_background": "light"
     },
     "output_type": "display_data"
    }
   ],
   "source": [
    "plot_scatter_chart(df8,\"Viman Nagar\")"
   ]
  },
  {
   "cell_type": "markdown",
   "id": "2471e736",
   "metadata": {
    "papermill": {
     "duration": 0.095173,
     "end_time": "2022-07-16T09:24:28.348220",
     "exception": false,
     "start_time": "2022-07-16T09:24:28.253047",
     "status": "completed"
    },
    "tags": []
   },
   "source": [
    "**Based on above charts we can see that some data points were outliers and they are being removed by remove_bhk_outliers function**"
   ]
  },
  {
   "cell_type": "markdown",
   "id": "897a1257",
   "metadata": {
    "papermill": {
     "duration": 0.094125,
     "end_time": "2022-07-16T09:24:28.539369",
     "exception": false,
     "start_time": "2022-07-16T09:24:28.445244",
     "status": "completed"
    },
    "tags": []
   },
   "source": [
    "# OUTLIER Removel Using Bathrooms Feature"
   ]
  },
  {
   "cell_type": "code",
   "execution_count": 52,
   "id": "99611621",
   "metadata": {
    "execution": {
     "iopub.execute_input": "2022-07-16T09:24:28.730306Z",
     "iopub.status.busy": "2022-07-16T09:24:28.730035Z",
     "iopub.status.idle": "2022-07-16T09:24:28.736195Z",
     "shell.execute_reply": "2022-07-16T09:24:28.735519Z"
    },
    "papermill": {
     "duration": 0.104559,
     "end_time": "2022-07-16T09:24:28.738349",
     "exception": false,
     "start_time": "2022-07-16T09:24:28.633790",
     "status": "completed"
    },
    "tags": []
   },
   "outputs": [
    {
     "data": {
      "text/plain": [
       "array([ 2.,  4.,  3.,  5.,  9.,  1.,  6.,  7.,  8., 12., 13., 16.])"
      ]
     },
     "execution_count": 52,
     "metadata": {},
     "output_type": "execute_result"
    }
   ],
   "source": [
    "df8.bath.unique()"
   ]
  },
  {
   "cell_type": "code",
   "execution_count": 53,
   "id": "3215be46",
   "metadata": {
    "execution": {
     "iopub.execute_input": "2022-07-16T09:24:28.933500Z",
     "iopub.status.busy": "2022-07-16T09:24:28.933254Z",
     "iopub.status.idle": "2022-07-16T09:24:29.148477Z",
     "shell.execute_reply": "2022-07-16T09:24:29.147799Z"
    },
    "papermill": {
     "duration": 0.313218,
     "end_time": "2022-07-16T09:24:29.150446",
     "exception": false,
     "start_time": "2022-07-16T09:24:28.837228",
     "status": "completed"
    },
    "tags": []
   },
   "outputs": [
    {
     "data": {
      "text/plain": [
       "Text(0, 0.5, 'Count')"
      ]
     },
     "execution_count": 53,
     "metadata": {},
     "output_type": "execute_result"
    },
    {
     "data": {
      "image/png": "[encoded data removed]",
      "text/plain": [
       "<Figure size 1080x720 with 1 Axes>"
      ]
     },
     "metadata": {
      "needs_background": "light"
     },
     "output_type": "display_data"
    }
   ],
   "source": [
    "plt.hist(df8.bath,rwidth=0.8)\n",
    "plt.xlabel(\"Number of bathrooms\")\n",
    "plt.ylabel(\"Count\")"
   ]
  },
  {
   "cell_type": "code",
   "execution_count": 54,
   "id": "2d35c512",
   "metadata": {
    "execution": {
     "iopub.execute_input": "2022-07-16T09:24:29.343788Z",
     "iopub.status.busy": "2022-07-16T09:24:29.343569Z",
     "iopub.status.idle": "2022-07-16T09:24:29.356648Z",
     "shell.execute_reply": "2022-07-16T09:24:29.355875Z"
    },
    "papermill": {
     "duration": 0.112896,
     "end_time": "2022-07-16T09:24:29.359301",
     "exception": false,
     "start_time": "2022-07-16T09:24:29.246405",
     "status": "completed"
    },
    "tags": []
   },
   "outputs": [
    {
     "data": {
      "text/html": [
       "<div>\n",
       "<style scoped>\n",
       "    .dataframe tbody tr th:only-of-type {\n",
       "        vertical-align: middle;\n",
       "    }\n",
       "\n",
       "    .dataframe tbody tr th {\n",
       "        vertical-align: top;\n",
       "    }\n",
       "\n",
       "    .dataframe thead th {\n",
       "        text-align: right;\n",
       "    }\n",
       "</style>\n",
       "<table border=\"1\" class=\"dataframe\">\n",
       "  <thead>\n",
       "    <tr style=\"text-align: right;\">\n",
       "      <th></th>\n",
       "      <th>size</th>\n",
       "      <th>total_sqft</th>\n",
       "      <th>bath</th>\n",
       "      <th>price</th>\n",
       "      <th>site_location</th>\n",
       "      <th>bhk</th>\n",
       "      <th>price_per_sqft</th>\n",
       "    </tr>\n",
       "  </thead>\n",
       "  <tbody>\n",
       "    <tr>\n",
       "      <th>1211</th>\n",
       "      <td>11 BHK</td>\n",
       "      <td>6000.0</td>\n",
       "      <td>12.0</td>\n",
       "      <td>150.0</td>\n",
       "      <td>Bibvewadi</td>\n",
       "      <td>11</td>\n",
       "      <td>2500.000000</td>\n",
       "    </tr>\n",
       "    <tr>\n",
       "      <th>2637</th>\n",
       "      <td>10 BHK</td>\n",
       "      <td>12000.0</td>\n",
       "      <td>12.0</td>\n",
       "      <td>525.0</td>\n",
       "      <td>Fatima Nagar</td>\n",
       "      <td>10</td>\n",
       "      <td>4375.000000</td>\n",
       "    </tr>\n",
       "    <tr>\n",
       "      <th>5265</th>\n",
       "      <td>13 BHK</td>\n",
       "      <td>5425.0</td>\n",
       "      <td>13.0</td>\n",
       "      <td>275.0</td>\n",
       "      <td>Kondhwa Khurd</td>\n",
       "      <td>13</td>\n",
       "      <td>5069.124424</td>\n",
       "    </tr>\n",
       "    <tr>\n",
       "      <th>6350</th>\n",
       "      <td>16 BHK</td>\n",
       "      <td>10000.0</td>\n",
       "      <td>16.0</td>\n",
       "      <td>550.0</td>\n",
       "      <td>Model colony</td>\n",
       "      <td>16</td>\n",
       "      <td>5500.000000</td>\n",
       "    </tr>\n",
       "    <tr>\n",
       "      <th>10389</th>\n",
       "      <td>10 BHK</td>\n",
       "      <td>4000.0</td>\n",
       "      <td>12.0</td>\n",
       "      <td>160.0</td>\n",
       "      <td>Wagholi</td>\n",
       "      <td>10</td>\n",
       "      <td>4000.000000</td>\n",
       "    </tr>\n",
       "  </tbody>\n",
       "</table>\n",
       "</div>"
      ],
      "text/plain": [
       "         size  total_sqft  bath  price  site_location  bhk  price_per_sqft\n",
       "1211   11 BHK      6000.0  12.0  150.0      Bibvewadi   11     2500.000000\n",
       "2637   10 BHK     12000.0  12.0  525.0   Fatima Nagar   10     4375.000000\n",
       "5265   13 BHK      5425.0  13.0  275.0  Kondhwa Khurd   13     5069.124424\n",
       "6350   16 BHK     10000.0  16.0  550.0   Model colony   16     5500.000000\n",
       "10389  10 BHK      4000.0  12.0  160.0        Wagholi   10     4000.000000"
      ]
     },
     "execution_count": 54,
     "metadata": {},
     "output_type": "execute_result"
    }
   ],
   "source": [
    "df8[df8.bath>10]"
   ]
  },
  {
   "cell_type": "markdown",
   "id": "a967db1a",
   "metadata": {
    "papermill": {
     "duration": 0.095773,
     "end_time": "2022-07-16T09:24:29.555434",
     "exception": false,
     "start_time": "2022-07-16T09:24:29.459661",
     "status": "completed"
    },
    "tags": []
   },
   "source": [
    "**It is unusual to have 2 more bathrooms than number of bedrooms in a home**"
   ]
  },
  {
   "cell_type": "code",
   "execution_count": 55,
   "id": "5b186883",
   "metadata": {
    "execution": {
     "iopub.execute_input": "2022-07-16T09:24:29.753620Z",
     "iopub.status.busy": "2022-07-16T09:24:29.753353Z",
     "iopub.status.idle": "2022-07-16T09:24:29.766995Z",
     "shell.execute_reply": "2022-07-16T09:24:29.766286Z"
    },
    "papermill": {
     "duration": 0.116651,
     "end_time": "2022-07-16T09:24:29.769503",
     "exception": false,
     "start_time": "2022-07-16T09:24:29.652852",
     "status": "completed"
    },
    "tags": []
   },
   "outputs": [
    {
     "data": {
      "text/html": [
       "<div>\n",
       "<style scoped>\n",
       "    .dataframe tbody tr th:only-of-type {\n",
       "        vertical-align: middle;\n",
       "    }\n",
       "\n",
       "    .dataframe tbody tr th {\n",
       "        vertical-align: top;\n",
       "    }\n",
       "\n",
       "    .dataframe thead th {\n",
       "        text-align: right;\n",
       "    }\n",
       "</style>\n",
       "<table border=\"1\" class=\"dataframe\">\n",
       "  <thead>\n",
       "    <tr style=\"text-align: right;\">\n",
       "      <th></th>\n",
       "      <th>size</th>\n",
       "      <th>total_sqft</th>\n",
       "      <th>bath</th>\n",
       "      <th>price</th>\n",
       "      <th>site_location</th>\n",
       "      <th>bhk</th>\n",
       "      <th>price_per_sqft</th>\n",
       "    </tr>\n",
       "  </thead>\n",
       "  <tbody>\n",
       "    <tr>\n",
       "      <th>772</th>\n",
       "      <td>3 BHK</td>\n",
       "      <td>1806.0</td>\n",
       "      <td>6.0</td>\n",
       "      <td>116.0</td>\n",
       "      <td>Baner</td>\n",
       "      <td>3</td>\n",
       "      <td>6423.034330</td>\n",
       "    </tr>\n",
       "    <tr>\n",
       "      <th>3067</th>\n",
       "      <td>6 BHK</td>\n",
       "      <td>11338.0</td>\n",
       "      <td>9.0</td>\n",
       "      <td>1000.0</td>\n",
       "      <td>Ghorpade Peth</td>\n",
       "      <td>6</td>\n",
       "      <td>8819.897689</td>\n",
       "    </tr>\n",
       "    <tr>\n",
       "      <th>4231</th>\n",
       "      <td>4 Bedroom</td>\n",
       "      <td>7000.0</td>\n",
       "      <td>8.0</td>\n",
       "      <td>450.0</td>\n",
       "      <td>Karve Nagar</td>\n",
       "      <td>4</td>\n",
       "      <td>6428.571429</td>\n",
       "    </tr>\n",
       "  </tbody>\n",
       "</table>\n",
       "</div>"
      ],
      "text/plain": [
       "           size  total_sqft  bath   price  site_location  bhk  price_per_sqft\n",
       "772       3 BHK      1806.0   6.0   116.0          Baner    3     6423.034330\n",
       "3067      6 BHK     11338.0   9.0  1000.0  Ghorpade Peth    6     8819.897689\n",
       "4231  4 Bedroom      7000.0   8.0   450.0    Karve Nagar    4     6428.571429"
      ]
     },
     "execution_count": 55,
     "metadata": {},
     "output_type": "execute_result"
    }
   ],
   "source": [
    "df8[df8.bath>df8.bhk+2]"
   ]
  },
  {
   "cell_type": "markdown",
   "id": "ac954e96",
   "metadata": {
    "papermill": {
     "duration": 0.096264,
     "end_time": "2022-07-16T09:24:29.967278",
     "exception": false,
     "start_time": "2022-07-16T09:24:29.871014",
     "status": "completed"
    },
    "tags": []
   },
   "source": [
    "****"
   ]
  },
  {
   "cell_type": "markdown",
   "id": "574231f7",
   "metadata": {
    "papermill": {
     "duration": 0.098013,
     "end_time": "2022-07-16T09:24:30.162939",
     "exception": false,
     "start_time": "2022-07-16T09:24:30.064926",
     "status": "completed"
    },
    "tags": []
   },
   "source": [
    "**if you have 4 bedroom home and even if you have bathroom in all 4 rooms plus one guest bathroom, you will have total bath = total bed + 1 max. Anything above that is an outlier or a data error and can be removed**"
   ]
  },
  {
   "cell_type": "code",
   "execution_count": 56,
   "id": "a0c730db",
   "metadata": {
    "execution": {
     "iopub.execute_input": "2022-07-16T09:24:30.357463Z",
     "iopub.status.busy": "2022-07-16T09:24:30.357181Z",
     "iopub.status.idle": "2022-07-16T09:24:30.365671Z",
     "shell.execute_reply": "2022-07-16T09:24:30.364870Z"
    },
    "papermill": {
     "duration": 0.108193,
     "end_time": "2022-07-16T09:24:30.367382",
     "exception": false,
     "start_time": "2022-07-16T09:24:30.259189",
     "status": "completed"
    },
    "tags": []
   },
   "outputs": [
    {
     "data": {
      "text/plain": [
       "(7479, 7)"
      ]
     },
     "execution_count": 56,
     "metadata": {},
     "output_type": "execute_result"
    }
   ],
   "source": [
    "df9 = df8[df8.bath<df8.bhk+2]\n",
    "df9.shape"
   ]
  },
  {
   "cell_type": "code",
   "execution_count": 57,
   "id": "f6d56d59",
   "metadata": {
    "execution": {
     "iopub.execute_input": "2022-07-16T09:24:30.565859Z",
     "iopub.status.busy": "2022-07-16T09:24:30.565604Z",
     "iopub.status.idle": "2022-07-16T09:24:30.578406Z",
     "shell.execute_reply": "2022-07-16T09:24:30.577625Z"
    },
    "papermill": {
     "duration": 0.114106,
     "end_time": "2022-07-16T09:24:30.580297",
     "exception": false,
     "start_time": "2022-07-16T09:24:30.466191",
     "status": "completed"
    },
    "tags": []
   },
   "outputs": [
    {
     "data": {
      "text/html": [
       "<div>\n",
       "<style scoped>\n",
       "    .dataframe tbody tr th:only-of-type {\n",
       "        vertical-align: middle;\n",
       "    }\n",
       "\n",
       "    .dataframe tbody tr th {\n",
       "        vertical-align: top;\n",
       "    }\n",
       "\n",
       "    .dataframe thead th {\n",
       "        text-align: right;\n",
       "    }\n",
       "</style>\n",
       "<table border=\"1\" class=\"dataframe\">\n",
       "  <thead>\n",
       "    <tr style=\"text-align: right;\">\n",
       "      <th></th>\n",
       "      <th>size</th>\n",
       "      <th>total_sqft</th>\n",
       "      <th>bath</th>\n",
       "      <th>price</th>\n",
       "      <th>site_location</th>\n",
       "      <th>bhk</th>\n",
       "      <th>price_per_sqft</th>\n",
       "    </tr>\n",
       "  </thead>\n",
       "  <tbody>\n",
       "    <tr>\n",
       "      <th>0</th>\n",
       "      <td>2 BHK</td>\n",
       "      <td>1056.0</td>\n",
       "      <td>2.0</td>\n",
       "      <td>39.07</td>\n",
       "      <td>Alandi Road</td>\n",
       "      <td>2</td>\n",
       "      <td>3699.810606</td>\n",
       "    </tr>\n",
       "    <tr>\n",
       "      <th>1</th>\n",
       "      <td>4 Bedroom</td>\n",
       "      <td>2894.0</td>\n",
       "      <td>4.0</td>\n",
       "      <td>245.00</td>\n",
       "      <td>Alandi Road</td>\n",
       "      <td>4</td>\n",
       "      <td>8465.791292</td>\n",
       "    </tr>\n",
       "  </tbody>\n",
       "</table>\n",
       "</div>"
      ],
      "text/plain": [
       "        size  total_sqft  bath   price site_location  bhk  price_per_sqft\n",
       "0      2 BHK      1056.0   2.0   39.07   Alandi Road    2     3699.810606\n",
       "1  4 Bedroom      2894.0   4.0  245.00   Alandi Road    4     8465.791292"
      ]
     },
     "execution_count": 57,
     "metadata": {},
     "output_type": "execute_result"
    }
   ],
   "source": [
    "df9.head(2)"
   ]
  },
  {
   "cell_type": "code",
   "execution_count": 58,
   "id": "8163e5de",
   "metadata": {
    "execution": {
     "iopub.execute_input": "2022-07-16T09:24:30.784578Z",
     "iopub.status.busy": "2022-07-16T09:24:30.783878Z",
     "iopub.status.idle": "2022-07-16T09:24:30.795492Z",
     "shell.execute_reply": "2022-07-16T09:24:30.794828Z"
    },
    "papermill": {
     "duration": 0.111332,
     "end_time": "2022-07-16T09:24:30.797342",
     "exception": false,
     "start_time": "2022-07-16T09:24:30.686010",
     "status": "completed"
    },
    "tags": []
   },
   "outputs": [
    {
     "data": {
      "text/html": [
       "<div>\n",
       "<style scoped>\n",
       "    .dataframe tbody tr th:only-of-type {\n",
       "        vertical-align: middle;\n",
       "    }\n",
       "\n",
       "    .dataframe tbody tr th {\n",
       "        vertical-align: top;\n",
       "    }\n",
       "\n",
       "    .dataframe thead th {\n",
       "        text-align: right;\n",
       "    }\n",
       "</style>\n",
       "<table border=\"1\" class=\"dataframe\">\n",
       "  <thead>\n",
       "    <tr style=\"text-align: right;\">\n",
       "      <th></th>\n",
       "      <th>total_sqft</th>\n",
       "      <th>bath</th>\n",
       "      <th>price</th>\n",
       "      <th>site_location</th>\n",
       "      <th>bhk</th>\n",
       "    </tr>\n",
       "  </thead>\n",
       "  <tbody>\n",
       "    <tr>\n",
       "      <th>0</th>\n",
       "      <td>1056.0</td>\n",
       "      <td>2.0</td>\n",
       "      <td>39.07</td>\n",
       "      <td>Alandi Road</td>\n",
       "      <td>2</td>\n",
       "    </tr>\n",
       "    <tr>\n",
       "      <th>1</th>\n",
       "      <td>2894.0</td>\n",
       "      <td>4.0</td>\n",
       "      <td>245.00</td>\n",
       "      <td>Alandi Road</td>\n",
       "      <td>4</td>\n",
       "    </tr>\n",
       "    <tr>\n",
       "      <th>2</th>\n",
       "      <td>1084.0</td>\n",
       "      <td>2.0</td>\n",
       "      <td>50.00</td>\n",
       "      <td>Alandi Road</td>\n",
       "      <td>2</td>\n",
       "    </tr>\n",
       "  </tbody>\n",
       "</table>\n",
       "</div>"
      ],
      "text/plain": [
       "   total_sqft  bath   price site_location  bhk\n",
       "0      1056.0   2.0   39.07   Alandi Road    2\n",
       "1      2894.0   4.0  245.00   Alandi Road    4\n",
       "2      1084.0   2.0   50.00   Alandi Road    2"
      ]
     },
     "execution_count": 58,
     "metadata": {},
     "output_type": "execute_result"
    }
   ],
   "source": [
    "df10 = df9.drop(['size','price_per_sqft'],axis='columns')\n",
    "df10.head(3)"
   ]
  },
  {
   "cell_type": "markdown",
   "id": "9b41e7f2",
   "metadata": {
    "papermill": {
     "duration": 0.098477,
     "end_time": "2022-07-16T09:24:30.996228",
     "exception": false,
     "start_time": "2022-07-16T09:24:30.897751",
     "status": "completed"
    },
    "tags": []
   },
   "source": [
    "# Use One Hot Encoding For Location"
   ]
  },
  {
   "cell_type": "code",
   "execution_count": 59,
   "id": "7579a572",
   "metadata": {
    "execution": {
     "iopub.execute_input": "2022-07-16T09:24:31.193019Z",
     "iopub.status.busy": "2022-07-16T09:24:31.192584Z",
     "iopub.status.idle": "2022-07-16T09:24:31.216668Z",
     "shell.execute_reply": "2022-07-16T09:24:31.215915Z"
    },
    "papermill": {
     "duration": 0.125586,
     "end_time": "2022-07-16T09:24:31.218828",
     "exception": false,
     "start_time": "2022-07-16T09:24:31.093242",
     "status": "completed"
    },
    "tags": []
   },
   "outputs": [
    {
     "data": {
      "text/html": [
       "<div>\n",
       "<style scoped>\n",
       "    .dataframe tbody tr th:only-of-type {\n",
       "        vertical-align: middle;\n",
       "    }\n",
       "\n",
       "    .dataframe tbody tr th {\n",
       "        vertical-align: top;\n",
       "    }\n",
       "\n",
       "    .dataframe thead th {\n",
       "        text-align: right;\n",
       "    }\n",
       "</style>\n",
       "<table border=\"1\" class=\"dataframe\">\n",
       "  <thead>\n",
       "    <tr style=\"text-align: right;\">\n",
       "      <th></th>\n",
       "      <th>Alandi Road</th>\n",
       "      <th>Ambegaon Budruk</th>\n",
       "      <th>Anandnagar</th>\n",
       "      <th>Aundh</th>\n",
       "      <th>Aundh Road</th>\n",
       "      <th>Balaji Nagar</th>\n",
       "      <th>Baner</th>\n",
       "      <th>Baner road</th>\n",
       "      <th>Bhandarkar Road</th>\n",
       "      <th>Bhavani Peth</th>\n",
       "      <th>...</th>\n",
       "      <th>Uruli Devachi</th>\n",
       "      <th>Vadgaon Budruk</th>\n",
       "      <th>Viman Nagar</th>\n",
       "      <th>Vishrant Wadi</th>\n",
       "      <th>Wadgaon Sheri</th>\n",
       "      <th>Wagholi</th>\n",
       "      <th>Wakadewadi</th>\n",
       "      <th>Wanowrie</th>\n",
       "      <th>Warje</th>\n",
       "      <th>Yerawada</th>\n",
       "    </tr>\n",
       "  </thead>\n",
       "  <tbody>\n",
       "    <tr>\n",
       "      <th>0</th>\n",
       "      <td>1</td>\n",
       "      <td>0</td>\n",
       "      <td>0</td>\n",
       "      <td>0</td>\n",
       "      <td>0</td>\n",
       "      <td>0</td>\n",
       "      <td>0</td>\n",
       "      <td>0</td>\n",
       "      <td>0</td>\n",
       "      <td>0</td>\n",
       "      <td>...</td>\n",
       "      <td>0</td>\n",
       "      <td>0</td>\n",
       "      <td>0</td>\n",
       "      <td>0</td>\n",
       "      <td>0</td>\n",
       "      <td>0</td>\n",
       "      <td>0</td>\n",
       "      <td>0</td>\n",
       "      <td>0</td>\n",
       "      <td>0</td>\n",
       "    </tr>\n",
       "    <tr>\n",
       "      <th>1</th>\n",
       "      <td>1</td>\n",
       "      <td>0</td>\n",
       "      <td>0</td>\n",
       "      <td>0</td>\n",
       "      <td>0</td>\n",
       "      <td>0</td>\n",
       "      <td>0</td>\n",
       "      <td>0</td>\n",
       "      <td>0</td>\n",
       "      <td>0</td>\n",
       "      <td>...</td>\n",
       "      <td>0</td>\n",
       "      <td>0</td>\n",
       "      <td>0</td>\n",
       "      <td>0</td>\n",
       "      <td>0</td>\n",
       "      <td>0</td>\n",
       "      <td>0</td>\n",
       "      <td>0</td>\n",
       "      <td>0</td>\n",
       "      <td>0</td>\n",
       "    </tr>\n",
       "    <tr>\n",
       "      <th>2</th>\n",
       "      <td>1</td>\n",
       "      <td>0</td>\n",
       "      <td>0</td>\n",
       "      <td>0</td>\n",
       "      <td>0</td>\n",
       "      <td>0</td>\n",
       "      <td>0</td>\n",
       "      <td>0</td>\n",
       "      <td>0</td>\n",
       "      <td>0</td>\n",
       "      <td>...</td>\n",
       "      <td>0</td>\n",
       "      <td>0</td>\n",
       "      <td>0</td>\n",
       "      <td>0</td>\n",
       "      <td>0</td>\n",
       "      <td>0</td>\n",
       "      <td>0</td>\n",
       "      <td>0</td>\n",
       "      <td>0</td>\n",
       "      <td>0</td>\n",
       "    </tr>\n",
       "    <tr>\n",
       "      <th>3</th>\n",
       "      <td>1</td>\n",
       "      <td>0</td>\n",
       "      <td>0</td>\n",
       "      <td>0</td>\n",
       "      <td>0</td>\n",
       "      <td>0</td>\n",
       "      <td>0</td>\n",
       "      <td>0</td>\n",
       "      <td>0</td>\n",
       "      <td>0</td>\n",
       "      <td>...</td>\n",
       "      <td>0</td>\n",
       "      <td>0</td>\n",
       "      <td>0</td>\n",
       "      <td>0</td>\n",
       "      <td>0</td>\n",
       "      <td>0</td>\n",
       "      <td>0</td>\n",
       "      <td>0</td>\n",
       "      <td>0</td>\n",
       "      <td>0</td>\n",
       "    </tr>\n",
       "    <tr>\n",
       "      <th>4</th>\n",
       "      <td>1</td>\n",
       "      <td>0</td>\n",
       "      <td>0</td>\n",
       "      <td>0</td>\n",
       "      <td>0</td>\n",
       "      <td>0</td>\n",
       "      <td>0</td>\n",
       "      <td>0</td>\n",
       "      <td>0</td>\n",
       "      <td>0</td>\n",
       "      <td>...</td>\n",
       "      <td>0</td>\n",
       "      <td>0</td>\n",
       "      <td>0</td>\n",
       "      <td>0</td>\n",
       "      <td>0</td>\n",
       "      <td>0</td>\n",
       "      <td>0</td>\n",
       "      <td>0</td>\n",
       "      <td>0</td>\n",
       "      <td>0</td>\n",
       "    </tr>\n",
       "    <tr>\n",
       "      <th>5</th>\n",
       "      <td>1</td>\n",
       "      <td>0</td>\n",
       "      <td>0</td>\n",
       "      <td>0</td>\n",
       "      <td>0</td>\n",
       "      <td>0</td>\n",
       "      <td>0</td>\n",
       "      <td>0</td>\n",
       "      <td>0</td>\n",
       "      <td>0</td>\n",
       "      <td>...</td>\n",
       "      <td>0</td>\n",
       "      <td>0</td>\n",
       "      <td>0</td>\n",
       "      <td>0</td>\n",
       "      <td>0</td>\n",
       "      <td>0</td>\n",
       "      <td>0</td>\n",
       "      <td>0</td>\n",
       "      <td>0</td>\n",
       "      <td>0</td>\n",
       "    </tr>\n",
       "    <tr>\n",
       "      <th>8</th>\n",
       "      <td>1</td>\n",
       "      <td>0</td>\n",
       "      <td>0</td>\n",
       "      <td>0</td>\n",
       "      <td>0</td>\n",
       "      <td>0</td>\n",
       "      <td>0</td>\n",
       "      <td>0</td>\n",
       "      <td>0</td>\n",
       "      <td>0</td>\n",
       "      <td>...</td>\n",
       "      <td>0</td>\n",
       "      <td>0</td>\n",
       "      <td>0</td>\n",
       "      <td>0</td>\n",
       "      <td>0</td>\n",
       "      <td>0</td>\n",
       "      <td>0</td>\n",
       "      <td>0</td>\n",
       "      <td>0</td>\n",
       "      <td>0</td>\n",
       "    </tr>\n",
       "    <tr>\n",
       "      <th>9</th>\n",
       "      <td>1</td>\n",
       "      <td>0</td>\n",
       "      <td>0</td>\n",
       "      <td>0</td>\n",
       "      <td>0</td>\n",
       "      <td>0</td>\n",
       "      <td>0</td>\n",
       "      <td>0</td>\n",
       "      <td>0</td>\n",
       "      <td>0</td>\n",
       "      <td>...</td>\n",
       "      <td>0</td>\n",
       "      <td>0</td>\n",
       "      <td>0</td>\n",
       "      <td>0</td>\n",
       "      <td>0</td>\n",
       "      <td>0</td>\n",
       "      <td>0</td>\n",
       "      <td>0</td>\n",
       "      <td>0</td>\n",
       "      <td>0</td>\n",
       "    </tr>\n",
       "    <tr>\n",
       "      <th>10</th>\n",
       "      <td>1</td>\n",
       "      <td>0</td>\n",
       "      <td>0</td>\n",
       "      <td>0</td>\n",
       "      <td>0</td>\n",
       "      <td>0</td>\n",
       "      <td>0</td>\n",
       "      <td>0</td>\n",
       "      <td>0</td>\n",
       "      <td>0</td>\n",
       "      <td>...</td>\n",
       "      <td>0</td>\n",
       "      <td>0</td>\n",
       "      <td>0</td>\n",
       "      <td>0</td>\n",
       "      <td>0</td>\n",
       "      <td>0</td>\n",
       "      <td>0</td>\n",
       "      <td>0</td>\n",
       "      <td>0</td>\n",
       "      <td>0</td>\n",
       "    </tr>\n",
       "    <tr>\n",
       "      <th>12</th>\n",
       "      <td>1</td>\n",
       "      <td>0</td>\n",
       "      <td>0</td>\n",
       "      <td>0</td>\n",
       "      <td>0</td>\n",
       "      <td>0</td>\n",
       "      <td>0</td>\n",
       "      <td>0</td>\n",
       "      <td>0</td>\n",
       "      <td>0</td>\n",
       "      <td>...</td>\n",
       "      <td>0</td>\n",
       "      <td>0</td>\n",
       "      <td>0</td>\n",
       "      <td>0</td>\n",
       "      <td>0</td>\n",
       "      <td>0</td>\n",
       "      <td>0</td>\n",
       "      <td>0</td>\n",
       "      <td>0</td>\n",
       "      <td>0</td>\n",
       "    </tr>\n",
       "    <tr>\n",
       "      <th>13</th>\n",
       "      <td>1</td>\n",
       "      <td>0</td>\n",
       "      <td>0</td>\n",
       "      <td>0</td>\n",
       "      <td>0</td>\n",
       "      <td>0</td>\n",
       "      <td>0</td>\n",
       "      <td>0</td>\n",
       "      <td>0</td>\n",
       "      <td>0</td>\n",
       "      <td>...</td>\n",
       "      <td>0</td>\n",
       "      <td>0</td>\n",
       "      <td>0</td>\n",
       "      <td>0</td>\n",
       "      <td>0</td>\n",
       "      <td>0</td>\n",
       "      <td>0</td>\n",
       "      <td>0</td>\n",
       "      <td>0</td>\n",
       "      <td>0</td>\n",
       "    </tr>\n",
       "    <tr>\n",
       "      <th>14</th>\n",
       "      <td>1</td>\n",
       "      <td>0</td>\n",
       "      <td>0</td>\n",
       "      <td>0</td>\n",
       "      <td>0</td>\n",
       "      <td>0</td>\n",
       "      <td>0</td>\n",
       "      <td>0</td>\n",
       "      <td>0</td>\n",
       "      <td>0</td>\n",
       "      <td>...</td>\n",
       "      <td>0</td>\n",
       "      <td>0</td>\n",
       "      <td>0</td>\n",
       "      <td>0</td>\n",
       "      <td>0</td>\n",
       "      <td>0</td>\n",
       "      <td>0</td>\n",
       "      <td>0</td>\n",
       "      <td>0</td>\n",
       "      <td>0</td>\n",
       "    </tr>\n",
       "    <tr>\n",
       "      <th>15</th>\n",
       "      <td>1</td>\n",
       "      <td>0</td>\n",
       "      <td>0</td>\n",
       "      <td>0</td>\n",
       "      <td>0</td>\n",
       "      <td>0</td>\n",
       "      <td>0</td>\n",
       "      <td>0</td>\n",
       "      <td>0</td>\n",
       "      <td>0</td>\n",
       "      <td>...</td>\n",
       "      <td>0</td>\n",
       "      <td>0</td>\n",
       "      <td>0</td>\n",
       "      <td>0</td>\n",
       "      <td>0</td>\n",
       "      <td>0</td>\n",
       "      <td>0</td>\n",
       "      <td>0</td>\n",
       "      <td>0</td>\n",
       "      <td>0</td>\n",
       "    </tr>\n",
       "    <tr>\n",
       "      <th>16</th>\n",
       "      <td>1</td>\n",
       "      <td>0</td>\n",
       "      <td>0</td>\n",
       "      <td>0</td>\n",
       "      <td>0</td>\n",
       "      <td>0</td>\n",
       "      <td>0</td>\n",
       "      <td>0</td>\n",
       "      <td>0</td>\n",
       "      <td>0</td>\n",
       "      <td>...</td>\n",
       "      <td>0</td>\n",
       "      <td>0</td>\n",
       "      <td>0</td>\n",
       "      <td>0</td>\n",
       "      <td>0</td>\n",
       "      <td>0</td>\n",
       "      <td>0</td>\n",
       "      <td>0</td>\n",
       "      <td>0</td>\n",
       "      <td>0</td>\n",
       "    </tr>\n",
       "    <tr>\n",
       "      <th>17</th>\n",
       "      <td>1</td>\n",
       "      <td>0</td>\n",
       "      <td>0</td>\n",
       "      <td>0</td>\n",
       "      <td>0</td>\n",
       "      <td>0</td>\n",
       "      <td>0</td>\n",
       "      <td>0</td>\n",
       "      <td>0</td>\n",
       "      <td>0</td>\n",
       "      <td>...</td>\n",
       "      <td>0</td>\n",
       "      <td>0</td>\n",
       "      <td>0</td>\n",
       "      <td>0</td>\n",
       "      <td>0</td>\n",
       "      <td>0</td>\n",
       "      <td>0</td>\n",
       "      <td>0</td>\n",
       "      <td>0</td>\n",
       "      <td>0</td>\n",
       "    </tr>\n",
       "    <tr>\n",
       "      <th>18</th>\n",
       "      <td>1</td>\n",
       "      <td>0</td>\n",
       "      <td>0</td>\n",
       "      <td>0</td>\n",
       "      <td>0</td>\n",
       "      <td>0</td>\n",
       "      <td>0</td>\n",
       "      <td>0</td>\n",
       "      <td>0</td>\n",
       "      <td>0</td>\n",
       "      <td>...</td>\n",
       "      <td>0</td>\n",
       "      <td>0</td>\n",
       "      <td>0</td>\n",
       "      <td>0</td>\n",
       "      <td>0</td>\n",
       "      <td>0</td>\n",
       "      <td>0</td>\n",
       "      <td>0</td>\n",
       "      <td>0</td>\n",
       "      <td>0</td>\n",
       "    </tr>\n",
       "    <tr>\n",
       "      <th>19</th>\n",
       "      <td>1</td>\n",
       "      <td>0</td>\n",
       "      <td>0</td>\n",
       "      <td>0</td>\n",
       "      <td>0</td>\n",
       "      <td>0</td>\n",
       "      <td>0</td>\n",
       "      <td>0</td>\n",
       "      <td>0</td>\n",
       "      <td>0</td>\n",
       "      <td>...</td>\n",
       "      <td>0</td>\n",
       "      <td>0</td>\n",
       "      <td>0</td>\n",
       "      <td>0</td>\n",
       "      <td>0</td>\n",
       "      <td>0</td>\n",
       "      <td>0</td>\n",
       "      <td>0</td>\n",
       "      <td>0</td>\n",
       "      <td>0</td>\n",
       "    </tr>\n",
       "    <tr>\n",
       "      <th>20</th>\n",
       "      <td>1</td>\n",
       "      <td>0</td>\n",
       "      <td>0</td>\n",
       "      <td>0</td>\n",
       "      <td>0</td>\n",
       "      <td>0</td>\n",
       "      <td>0</td>\n",
       "      <td>0</td>\n",
       "      <td>0</td>\n",
       "      <td>0</td>\n",
       "      <td>...</td>\n",
       "      <td>0</td>\n",
       "      <td>0</td>\n",
       "      <td>0</td>\n",
       "      <td>0</td>\n",
       "      <td>0</td>\n",
       "      <td>0</td>\n",
       "      <td>0</td>\n",
       "      <td>0</td>\n",
       "      <td>0</td>\n",
       "      <td>0</td>\n",
       "    </tr>\n",
       "    <tr>\n",
       "      <th>21</th>\n",
       "      <td>1</td>\n",
       "      <td>0</td>\n",
       "      <td>0</td>\n",
       "      <td>0</td>\n",
       "      <td>0</td>\n",
       "      <td>0</td>\n",
       "      <td>0</td>\n",
       "      <td>0</td>\n",
       "      <td>0</td>\n",
       "      <td>0</td>\n",
       "      <td>...</td>\n",
       "      <td>0</td>\n",
       "      <td>0</td>\n",
       "      <td>0</td>\n",
       "      <td>0</td>\n",
       "      <td>0</td>\n",
       "      <td>0</td>\n",
       "      <td>0</td>\n",
       "      <td>0</td>\n",
       "      <td>0</td>\n",
       "      <td>0</td>\n",
       "    </tr>\n",
       "    <tr>\n",
       "      <th>22</th>\n",
       "      <td>1</td>\n",
       "      <td>0</td>\n",
       "      <td>0</td>\n",
       "      <td>0</td>\n",
       "      <td>0</td>\n",
       "      <td>0</td>\n",
       "      <td>0</td>\n",
       "      <td>0</td>\n",
       "      <td>0</td>\n",
       "      <td>0</td>\n",
       "      <td>...</td>\n",
       "      <td>0</td>\n",
       "      <td>0</td>\n",
       "      <td>0</td>\n",
       "      <td>0</td>\n",
       "      <td>0</td>\n",
       "      <td>0</td>\n",
       "      <td>0</td>\n",
       "      <td>0</td>\n",
       "      <td>0</td>\n",
       "      <td>0</td>\n",
       "    </tr>\n",
       "  </tbody>\n",
       "</table>\n",
       "<p>20 rows × 96 columns</p>\n",
       "</div>"
      ],
      "text/plain": [
       "    Alandi Road  Ambegaon Budruk  Anandnagar  Aundh  Aundh Road  Balaji Nagar  \\\n",
       "0             1                0           0      0           0             0   \n",
       "1             1                0           0      0           0             0   \n",
       "2             1                0           0      0           0             0   \n",
       "3             1                0           0      0           0             0   \n",
       "4             1                0           0      0           0             0   \n",
       "5             1                0           0      0           0             0   \n",
       "8             1                0           0      0           0             0   \n",
       "9             1                0           0      0           0             0   \n",
       "10            1                0           0      0           0             0   \n",
       "12            1                0           0      0           0             0   \n",
       "13            1                0           0      0           0             0   \n",
       "14            1                0           0      0           0             0   \n",
       "15            1                0           0      0           0             0   \n",
       "16            1                0           0      0           0             0   \n",
       "17            1                0           0      0           0             0   \n",
       "18            1                0           0      0           0             0   \n",
       "19            1                0           0      0           0             0   \n",
       "20            1                0           0      0           0             0   \n",
       "21            1                0           0      0           0             0   \n",
       "22            1                0           0      0           0             0   \n",
       "\n",
       "    Baner  Baner road  Bhandarkar Road  Bhavani Peth  ...  Uruli Devachi  \\\n",
       "0       0           0                0             0  ...              0   \n",
       "1       0           0                0             0  ...              0   \n",
       "2       0           0                0             0  ...              0   \n",
       "3       0           0                0             0  ...              0   \n",
       "4       0           0                0             0  ...              0   \n",
       "5       0           0                0             0  ...              0   \n",
       "8       0           0                0             0  ...              0   \n",
       "9       0           0                0             0  ...              0   \n",
       "10      0           0                0             0  ...              0   \n",
       "12      0           0                0             0  ...              0   \n",
       "13      0           0                0             0  ...              0   \n",
       "14      0           0                0             0  ...              0   \n",
       "15      0           0                0             0  ...              0   \n",
       "16      0           0                0             0  ...              0   \n",
       "17      0           0                0             0  ...              0   \n",
       "18      0           0                0             0  ...              0   \n",
       "19      0           0                0             0  ...              0   \n",
       "20      0           0                0             0  ...              0   \n",
       "21      0           0                0             0  ...              0   \n",
       "22      0           0                0             0  ...              0   \n",
       "\n",
       "    Vadgaon Budruk  Viman Nagar  Vishrant Wadi  Wadgaon Sheri  Wagholi  \\\n",
       "0                0            0              0              0        0   \n",
       "1                0            0              0              0        0   \n",
       "2                0            0              0              0        0   \n",
       "3                0            0              0              0        0   \n",
       "4                0            0              0              0        0   \n",
       "5                0            0              0              0        0   \n",
       "8                0            0              0              0        0   \n",
       "9                0            0              0              0        0   \n",
       "10               0            0              0              0        0   \n",
       "12               0            0              0              0        0   \n",
       "13               0            0              0              0        0   \n",
       "14               0            0              0              0        0   \n",
       "15               0            0              0              0        0   \n",
       "16               0            0              0              0        0   \n",
       "17               0            0              0              0        0   \n",
       "18               0            0              0              0        0   \n",
       "19               0            0              0              0        0   \n",
       "20               0            0              0              0        0   \n",
       "21               0            0              0              0        0   \n",
       "22               0            0              0              0        0   \n",
       "\n",
       "    Wakadewadi  Wanowrie  Warje  Yerawada  \n",
       "0            0         0      0         0  \n",
       "1            0         0      0         0  \n",
       "2            0         0      0         0  \n",
       "3            0         0      0         0  \n",
       "4            0         0      0         0  \n",
       "5            0         0      0         0  \n",
       "8            0         0      0         0  \n",
       "9            0         0      0         0  \n",
       "10           0         0      0         0  \n",
       "12           0         0      0         0  \n",
       "13           0         0      0         0  \n",
       "14           0         0      0         0  \n",
       "15           0         0      0         0  \n",
       "16           0         0      0         0  \n",
       "17           0         0      0         0  \n",
       "18           0         0      0         0  \n",
       "19           0         0      0         0  \n",
       "20           0         0      0         0  \n",
       "21           0         0      0         0  \n",
       "22           0         0      0         0  \n",
       "\n",
       "[20 rows x 96 columns]"
      ]
     },
     "execution_count": 59,
     "metadata": {},
     "output_type": "execute_result"
    }
   ],
   "source": [
    "dummies = pd.get_dummies(df10.site_location)\n",
    "dummies.head(20)"
   ]
  },
  {
   "cell_type": "code",
   "execution_count": 60,
   "id": "2e0d9236",
   "metadata": {
    "execution": {
     "iopub.execute_input": "2022-07-16T09:24:31.418158Z",
     "iopub.status.busy": "2022-07-16T09:24:31.417954Z",
     "iopub.status.idle": "2022-07-16T09:24:31.437227Z",
     "shell.execute_reply": "2022-07-16T09:24:31.436461Z"
    },
    "papermill": {
     "duration": 0.121891,
     "end_time": "2022-07-16T09:24:31.439003",
     "exception": false,
     "start_time": "2022-07-16T09:24:31.317112",
     "status": "completed"
    },
    "tags": []
   },
   "outputs": [
    {
     "data": {
      "text/html": [
       "<div>\n",
       "<style scoped>\n",
       "    .dataframe tbody tr th:only-of-type {\n",
       "        vertical-align: middle;\n",
       "    }\n",
       "\n",
       "    .dataframe tbody tr th {\n",
       "        vertical-align: top;\n",
       "    }\n",
       "\n",
       "    .dataframe thead th {\n",
       "        text-align: right;\n",
       "    }\n",
       "</style>\n",
       "<table border=\"1\" class=\"dataframe\">\n",
       "  <thead>\n",
       "    <tr style=\"text-align: right;\">\n",
       "      <th></th>\n",
       "      <th>total_sqft</th>\n",
       "      <th>bath</th>\n",
       "      <th>price</th>\n",
       "      <th>site_location</th>\n",
       "      <th>bhk</th>\n",
       "      <th>Alandi Road</th>\n",
       "      <th>Ambegaon Budruk</th>\n",
       "      <th>Anandnagar</th>\n",
       "      <th>Aundh</th>\n",
       "      <th>Aundh Road</th>\n",
       "      <th>...</th>\n",
       "      <th>Tilak Road</th>\n",
       "      <th>Uruli Devachi</th>\n",
       "      <th>Vadgaon Budruk</th>\n",
       "      <th>Viman Nagar</th>\n",
       "      <th>Vishrant Wadi</th>\n",
       "      <th>Wadgaon Sheri</th>\n",
       "      <th>Wagholi</th>\n",
       "      <th>Wakadewadi</th>\n",
       "      <th>Wanowrie</th>\n",
       "      <th>Yerawada</th>\n",
       "    </tr>\n",
       "  </thead>\n",
       "  <tbody>\n",
       "    <tr>\n",
       "      <th>0</th>\n",
       "      <td>1056.0</td>\n",
       "      <td>2.0</td>\n",
       "      <td>39.07</td>\n",
       "      <td>Alandi Road</td>\n",
       "      <td>2</td>\n",
       "      <td>1</td>\n",
       "      <td>0</td>\n",
       "      <td>0</td>\n",
       "      <td>0</td>\n",
       "      <td>0</td>\n",
       "      <td>...</td>\n",
       "      <td>0</td>\n",
       "      <td>0</td>\n",
       "      <td>0</td>\n",
       "      <td>0</td>\n",
       "      <td>0</td>\n",
       "      <td>0</td>\n",
       "      <td>0</td>\n",
       "      <td>0</td>\n",
       "      <td>0</td>\n",
       "      <td>0</td>\n",
       "    </tr>\n",
       "    <tr>\n",
       "      <th>1</th>\n",
       "      <td>2894.0</td>\n",
       "      <td>4.0</td>\n",
       "      <td>245.00</td>\n",
       "      <td>Alandi Road</td>\n",
       "      <td>4</td>\n",
       "      <td>1</td>\n",
       "      <td>0</td>\n",
       "      <td>0</td>\n",
       "      <td>0</td>\n",
       "      <td>0</td>\n",
       "      <td>...</td>\n",
       "      <td>0</td>\n",
       "      <td>0</td>\n",
       "      <td>0</td>\n",
       "      <td>0</td>\n",
       "      <td>0</td>\n",
       "      <td>0</td>\n",
       "      <td>0</td>\n",
       "      <td>0</td>\n",
       "      <td>0</td>\n",
       "      <td>0</td>\n",
       "    </tr>\n",
       "    <tr>\n",
       "      <th>2</th>\n",
       "      <td>1084.0</td>\n",
       "      <td>2.0</td>\n",
       "      <td>50.00</td>\n",
       "      <td>Alandi Road</td>\n",
       "      <td>2</td>\n",
       "      <td>1</td>\n",
       "      <td>0</td>\n",
       "      <td>0</td>\n",
       "      <td>0</td>\n",
       "      <td>0</td>\n",
       "      <td>...</td>\n",
       "      <td>0</td>\n",
       "      <td>0</td>\n",
       "      <td>0</td>\n",
       "      <td>0</td>\n",
       "      <td>0</td>\n",
       "      <td>0</td>\n",
       "      <td>0</td>\n",
       "      <td>0</td>\n",
       "      <td>0</td>\n",
       "      <td>0</td>\n",
       "    </tr>\n",
       "    <tr>\n",
       "      <th>3</th>\n",
       "      <td>1230.0</td>\n",
       "      <td>2.0</td>\n",
       "      <td>80.00</td>\n",
       "      <td>Alandi Road</td>\n",
       "      <td>2</td>\n",
       "      <td>1</td>\n",
       "      <td>0</td>\n",
       "      <td>0</td>\n",
       "      <td>0</td>\n",
       "      <td>0</td>\n",
       "      <td>...</td>\n",
       "      <td>0</td>\n",
       "      <td>0</td>\n",
       "      <td>0</td>\n",
       "      <td>0</td>\n",
       "      <td>0</td>\n",
       "      <td>0</td>\n",
       "      <td>0</td>\n",
       "      <td>0</td>\n",
       "      <td>0</td>\n",
       "      <td>0</td>\n",
       "    </tr>\n",
       "    <tr>\n",
       "      <th>4</th>\n",
       "      <td>1750.0</td>\n",
       "      <td>3.0</td>\n",
       "      <td>130.00</td>\n",
       "      <td>Alandi Road</td>\n",
       "      <td>3</td>\n",
       "      <td>1</td>\n",
       "      <td>0</td>\n",
       "      <td>0</td>\n",
       "      <td>0</td>\n",
       "      <td>0</td>\n",
       "      <td>...</td>\n",
       "      <td>0</td>\n",
       "      <td>0</td>\n",
       "      <td>0</td>\n",
       "      <td>0</td>\n",
       "      <td>0</td>\n",
       "      <td>0</td>\n",
       "      <td>0</td>\n",
       "      <td>0</td>\n",
       "      <td>0</td>\n",
       "      <td>0</td>\n",
       "    </tr>\n",
       "  </tbody>\n",
       "</table>\n",
       "<p>5 rows × 100 columns</p>\n",
       "</div>"
      ],
      "text/plain": [
       "   total_sqft  bath   price site_location  bhk  Alandi Road  Ambegaon Budruk  \\\n",
       "0      1056.0   2.0   39.07   Alandi Road    2            1                0   \n",
       "1      2894.0   4.0  245.00   Alandi Road    4            1                0   \n",
       "2      1084.0   2.0   50.00   Alandi Road    2            1                0   \n",
       "3      1230.0   2.0   80.00   Alandi Road    2            1                0   \n",
       "4      1750.0   3.0  130.00   Alandi Road    3            1                0   \n",
       "\n",
       "   Anandnagar  Aundh  Aundh Road  ...  Tilak Road  Uruli Devachi  \\\n",
       "0           0      0           0  ...           0              0   \n",
       "1           0      0           0  ...           0              0   \n",
       "2           0      0           0  ...           0              0   \n",
       "3           0      0           0  ...           0              0   \n",
       "4           0      0           0  ...           0              0   \n",
       "\n",
       "   Vadgaon Budruk  Viman Nagar  Vishrant Wadi  Wadgaon Sheri  Wagholi  \\\n",
       "0               0            0              0              0        0   \n",
       "1               0            0              0              0        0   \n",
       "2               0            0              0              0        0   \n",
       "3               0            0              0              0        0   \n",
       "4               0            0              0              0        0   \n",
       "\n",
       "   Wakadewadi  Wanowrie  Yerawada  \n",
       "0           0         0         0  \n",
       "1           0         0         0  \n",
       "2           0         0         0  \n",
       "3           0         0         0  \n",
       "4           0         0         0  \n",
       "\n",
       "[5 rows x 100 columns]"
      ]
     },
     "execution_count": 60,
     "metadata": {},
     "output_type": "execute_result"
    }
   ],
   "source": [
    "df11 = pd.concat([df10,dummies.drop('Warje',axis='columns')],axis='columns')\n",
    "df11.head()"
   ]
  },
  {
   "cell_type": "code",
   "execution_count": 61,
   "id": "1d0f8997",
   "metadata": {
    "execution": {
     "iopub.execute_input": "2022-07-16T09:24:31.641996Z",
     "iopub.status.busy": "2022-07-16T09:24:31.641746Z",
     "iopub.status.idle": "2022-07-16T09:24:31.659079Z",
     "shell.execute_reply": "2022-07-16T09:24:31.658303Z"
    },
    "papermill": {
     "duration": 0.11976,
     "end_time": "2022-07-16T09:24:31.660958",
     "exception": false,
     "start_time": "2022-07-16T09:24:31.541198",
     "status": "completed"
    },
    "tags": []
   },
   "outputs": [
    {
     "data": {
      "text/html": [
       "<div>\n",
       "<style scoped>\n",
       "    .dataframe tbody tr th:only-of-type {\n",
       "        vertical-align: middle;\n",
       "    }\n",
       "\n",
       "    .dataframe tbody tr th {\n",
       "        vertical-align: top;\n",
       "    }\n",
       "\n",
       "    .dataframe thead th {\n",
       "        text-align: right;\n",
       "    }\n",
       "</style>\n",
       "<table border=\"1\" class=\"dataframe\">\n",
       "  <thead>\n",
       "    <tr style=\"text-align: right;\">\n",
       "      <th></th>\n",
       "      <th>total_sqft</th>\n",
       "      <th>bath</th>\n",
       "      <th>price</th>\n",
       "      <th>bhk</th>\n",
       "      <th>Alandi Road</th>\n",
       "      <th>Ambegaon Budruk</th>\n",
       "      <th>Anandnagar</th>\n",
       "      <th>Aundh</th>\n",
       "      <th>Aundh Road</th>\n",
       "      <th>Balaji Nagar</th>\n",
       "      <th>...</th>\n",
       "      <th>Tilak Road</th>\n",
       "      <th>Uruli Devachi</th>\n",
       "      <th>Vadgaon Budruk</th>\n",
       "      <th>Viman Nagar</th>\n",
       "      <th>Vishrant Wadi</th>\n",
       "      <th>Wadgaon Sheri</th>\n",
       "      <th>Wagholi</th>\n",
       "      <th>Wakadewadi</th>\n",
       "      <th>Wanowrie</th>\n",
       "      <th>Yerawada</th>\n",
       "    </tr>\n",
       "  </thead>\n",
       "  <tbody>\n",
       "    <tr>\n",
       "      <th>0</th>\n",
       "      <td>1056.0</td>\n",
       "      <td>2.0</td>\n",
       "      <td>39.07</td>\n",
       "      <td>2</td>\n",
       "      <td>1</td>\n",
       "      <td>0</td>\n",
       "      <td>0</td>\n",
       "      <td>0</td>\n",
       "      <td>0</td>\n",
       "      <td>0</td>\n",
       "      <td>...</td>\n",
       "      <td>0</td>\n",
       "      <td>0</td>\n",
       "      <td>0</td>\n",
       "      <td>0</td>\n",
       "      <td>0</td>\n",
       "      <td>0</td>\n",
       "      <td>0</td>\n",
       "      <td>0</td>\n",
       "      <td>0</td>\n",
       "      <td>0</td>\n",
       "    </tr>\n",
       "    <tr>\n",
       "      <th>1</th>\n",
       "      <td>2894.0</td>\n",
       "      <td>4.0</td>\n",
       "      <td>245.00</td>\n",
       "      <td>4</td>\n",
       "      <td>1</td>\n",
       "      <td>0</td>\n",
       "      <td>0</td>\n",
       "      <td>0</td>\n",
       "      <td>0</td>\n",
       "      <td>0</td>\n",
       "      <td>...</td>\n",
       "      <td>0</td>\n",
       "      <td>0</td>\n",
       "      <td>0</td>\n",
       "      <td>0</td>\n",
       "      <td>0</td>\n",
       "      <td>0</td>\n",
       "      <td>0</td>\n",
       "      <td>0</td>\n",
       "      <td>0</td>\n",
       "      <td>0</td>\n",
       "    </tr>\n",
       "  </tbody>\n",
       "</table>\n",
       "<p>2 rows × 99 columns</p>\n",
       "</div>"
      ],
      "text/plain": [
       "   total_sqft  bath   price  bhk  Alandi Road  Ambegaon Budruk  Anandnagar  \\\n",
       "0      1056.0   2.0   39.07    2            1                0           0   \n",
       "1      2894.0   4.0  245.00    4            1                0           0   \n",
       "\n",
       "   Aundh  Aundh Road  Balaji Nagar  ...  Tilak Road  Uruli Devachi  \\\n",
       "0      0           0             0  ...           0              0   \n",
       "1      0           0             0  ...           0              0   \n",
       "\n",
       "   Vadgaon Budruk  Viman Nagar  Vishrant Wadi  Wadgaon Sheri  Wagholi  \\\n",
       "0               0            0              0              0        0   \n",
       "1               0            0              0              0        0   \n",
       "\n",
       "   Wakadewadi  Wanowrie  Yerawada  \n",
       "0           0         0         0  \n",
       "1           0         0         0  \n",
       "\n",
       "[2 rows x 99 columns]"
      ]
     },
     "execution_count": 61,
     "metadata": {},
     "output_type": "execute_result"
    }
   ],
   "source": [
    "df12 = df11.drop('site_location',axis='columns')\n",
    "df12.head(2)"
   ]
  },
  {
   "cell_type": "markdown",
   "id": "1b534bd5",
   "metadata": {
    "papermill": {
     "duration": 0.099465,
     "end_time": "2022-07-16T09:24:31.866340",
     "exception": false,
     "start_time": "2022-07-16T09:24:31.766875",
     "status": "completed"
    },
    "tags": []
   },
   "source": [
    "# **Build a model now**"
   ]
  },
  {
   "cell_type": "code",
   "execution_count": 62,
   "id": "2e2a2b95",
   "metadata": {
    "execution": {
     "iopub.execute_input": "2022-07-16T09:24:32.078286Z",
     "iopub.status.busy": "2022-07-16T09:24:32.077779Z",
     "iopub.status.idle": "2022-07-16T09:24:32.082721Z",
     "shell.execute_reply": "2022-07-16T09:24:32.082066Z"
    },
    "papermill": {
     "duration": 0.110475,
     "end_time": "2022-07-16T09:24:32.084637",
     "exception": false,
     "start_time": "2022-07-16T09:24:31.974162",
     "status": "completed"
    },
    "tags": []
   },
   "outputs": [
    {
     "data": {
      "text/plain": [
       "(7479, 99)"
      ]
     },
     "execution_count": 62,
     "metadata": {},
     "output_type": "execute_result"
    }
   ],
   "source": [
    "df12.shape"
   ]
  },
  {
   "cell_type": "code",
   "execution_count": 63,
   "id": "879e7e73",
   "metadata": {
    "execution": {
     "iopub.execute_input": "2022-07-16T09:24:32.286061Z",
     "iopub.status.busy": "2022-07-16T09:24:32.285486Z",
     "iopub.status.idle": "2022-07-16T09:24:32.306549Z",
     "shell.execute_reply": "2022-07-16T09:24:32.305938Z"
    },
    "papermill": {
     "duration": 0.123653,
     "end_time": "2022-07-16T09:24:32.308370",
     "exception": false,
     "start_time": "2022-07-16T09:24:32.184717",
     "status": "completed"
    },
    "tags": []
   },
   "outputs": [
    {
     "data": {
      "text/html": [
       "<div>\n",
       "<style scoped>\n",
       "    .dataframe tbody tr th:only-of-type {\n",
       "        vertical-align: middle;\n",
       "    }\n",
       "\n",
       "    .dataframe tbody tr th {\n",
       "        vertical-align: top;\n",
       "    }\n",
       "\n",
       "    .dataframe thead th {\n",
       "        text-align: right;\n",
       "    }\n",
       "</style>\n",
       "<table border=\"1\" class=\"dataframe\">\n",
       "  <thead>\n",
       "    <tr style=\"text-align: right;\">\n",
       "      <th></th>\n",
       "      <th>total_sqft</th>\n",
       "      <th>bath</th>\n",
       "      <th>bhk</th>\n",
       "      <th>Alandi Road</th>\n",
       "      <th>Ambegaon Budruk</th>\n",
       "      <th>Anandnagar</th>\n",
       "      <th>Aundh</th>\n",
       "      <th>Aundh Road</th>\n",
       "      <th>Balaji Nagar</th>\n",
       "      <th>Baner</th>\n",
       "      <th>...</th>\n",
       "      <th>Tilak Road</th>\n",
       "      <th>Uruli Devachi</th>\n",
       "      <th>Vadgaon Budruk</th>\n",
       "      <th>Viman Nagar</th>\n",
       "      <th>Vishrant Wadi</th>\n",
       "      <th>Wadgaon Sheri</th>\n",
       "      <th>Wagholi</th>\n",
       "      <th>Wakadewadi</th>\n",
       "      <th>Wanowrie</th>\n",
       "      <th>Yerawada</th>\n",
       "    </tr>\n",
       "  </thead>\n",
       "  <tbody>\n",
       "    <tr>\n",
       "      <th>0</th>\n",
       "      <td>1056.0</td>\n",
       "      <td>2.0</td>\n",
       "      <td>2</td>\n",
       "      <td>1</td>\n",
       "      <td>0</td>\n",
       "      <td>0</td>\n",
       "      <td>0</td>\n",
       "      <td>0</td>\n",
       "      <td>0</td>\n",
       "      <td>0</td>\n",
       "      <td>...</td>\n",
       "      <td>0</td>\n",
       "      <td>0</td>\n",
       "      <td>0</td>\n",
       "      <td>0</td>\n",
       "      <td>0</td>\n",
       "      <td>0</td>\n",
       "      <td>0</td>\n",
       "      <td>0</td>\n",
       "      <td>0</td>\n",
       "      <td>0</td>\n",
       "    </tr>\n",
       "    <tr>\n",
       "      <th>1</th>\n",
       "      <td>2894.0</td>\n",
       "      <td>4.0</td>\n",
       "      <td>4</td>\n",
       "      <td>1</td>\n",
       "      <td>0</td>\n",
       "      <td>0</td>\n",
       "      <td>0</td>\n",
       "      <td>0</td>\n",
       "      <td>0</td>\n",
       "      <td>0</td>\n",
       "      <td>...</td>\n",
       "      <td>0</td>\n",
       "      <td>0</td>\n",
       "      <td>0</td>\n",
       "      <td>0</td>\n",
       "      <td>0</td>\n",
       "      <td>0</td>\n",
       "      <td>0</td>\n",
       "      <td>0</td>\n",
       "      <td>0</td>\n",
       "      <td>0</td>\n",
       "    </tr>\n",
       "    <tr>\n",
       "      <th>2</th>\n",
       "      <td>1084.0</td>\n",
       "      <td>2.0</td>\n",
       "      <td>2</td>\n",
       "      <td>1</td>\n",
       "      <td>0</td>\n",
       "      <td>0</td>\n",
       "      <td>0</td>\n",
       "      <td>0</td>\n",
       "      <td>0</td>\n",
       "      <td>0</td>\n",
       "      <td>...</td>\n",
       "      <td>0</td>\n",
       "      <td>0</td>\n",
       "      <td>0</td>\n",
       "      <td>0</td>\n",
       "      <td>0</td>\n",
       "      <td>0</td>\n",
       "      <td>0</td>\n",
       "      <td>0</td>\n",
       "      <td>0</td>\n",
       "      <td>0</td>\n",
       "    </tr>\n",
       "    <tr>\n",
       "      <th>3</th>\n",
       "      <td>1230.0</td>\n",
       "      <td>2.0</td>\n",
       "      <td>2</td>\n",
       "      <td>1</td>\n",
       "      <td>0</td>\n",
       "      <td>0</td>\n",
       "      <td>0</td>\n",
       "      <td>0</td>\n",
       "      <td>0</td>\n",
       "      <td>0</td>\n",
       "      <td>...</td>\n",
       "      <td>0</td>\n",
       "      <td>0</td>\n",
       "      <td>0</td>\n",
       "      <td>0</td>\n",
       "      <td>0</td>\n",
       "      <td>0</td>\n",
       "      <td>0</td>\n",
       "      <td>0</td>\n",
       "      <td>0</td>\n",
       "      <td>0</td>\n",
       "    </tr>\n",
       "    <tr>\n",
       "      <th>4</th>\n",
       "      <td>1750.0</td>\n",
       "      <td>3.0</td>\n",
       "      <td>3</td>\n",
       "      <td>1</td>\n",
       "      <td>0</td>\n",
       "      <td>0</td>\n",
       "      <td>0</td>\n",
       "      <td>0</td>\n",
       "      <td>0</td>\n",
       "      <td>0</td>\n",
       "      <td>...</td>\n",
       "      <td>0</td>\n",
       "      <td>0</td>\n",
       "      <td>0</td>\n",
       "      <td>0</td>\n",
       "      <td>0</td>\n",
       "      <td>0</td>\n",
       "      <td>0</td>\n",
       "      <td>0</td>\n",
       "      <td>0</td>\n",
       "      <td>0</td>\n",
       "    </tr>\n",
       "    <tr>\n",
       "      <th>5</th>\n",
       "      <td>995.0</td>\n",
       "      <td>2.0</td>\n",
       "      <td>2</td>\n",
       "      <td>1</td>\n",
       "      <td>0</td>\n",
       "      <td>0</td>\n",
       "      <td>0</td>\n",
       "      <td>0</td>\n",
       "      <td>0</td>\n",
       "      <td>0</td>\n",
       "      <td>...</td>\n",
       "      <td>0</td>\n",
       "      <td>0</td>\n",
       "      <td>0</td>\n",
       "      <td>0</td>\n",
       "      <td>0</td>\n",
       "      <td>0</td>\n",
       "      <td>0</td>\n",
       "      <td>0</td>\n",
       "      <td>0</td>\n",
       "      <td>0</td>\n",
       "    </tr>\n",
       "    <tr>\n",
       "      <th>8</th>\n",
       "      <td>1360.0</td>\n",
       "      <td>2.0</td>\n",
       "      <td>2</td>\n",
       "      <td>1</td>\n",
       "      <td>0</td>\n",
       "      <td>0</td>\n",
       "      <td>0</td>\n",
       "      <td>0</td>\n",
       "      <td>0</td>\n",
       "      <td>0</td>\n",
       "      <td>...</td>\n",
       "      <td>0</td>\n",
       "      <td>0</td>\n",
       "      <td>0</td>\n",
       "      <td>0</td>\n",
       "      <td>0</td>\n",
       "      <td>0</td>\n",
       "      <td>0</td>\n",
       "      <td>0</td>\n",
       "      <td>0</td>\n",
       "      <td>0</td>\n",
       "    </tr>\n",
       "    <tr>\n",
       "      <th>9</th>\n",
       "      <td>1040.0</td>\n",
       "      <td>2.0</td>\n",
       "      <td>2</td>\n",
       "      <td>1</td>\n",
       "      <td>0</td>\n",
       "      <td>0</td>\n",
       "      <td>0</td>\n",
       "      <td>0</td>\n",
       "      <td>0</td>\n",
       "      <td>0</td>\n",
       "      <td>...</td>\n",
       "      <td>0</td>\n",
       "      <td>0</td>\n",
       "      <td>0</td>\n",
       "      <td>0</td>\n",
       "      <td>0</td>\n",
       "      <td>0</td>\n",
       "      <td>0</td>\n",
       "      <td>0</td>\n",
       "      <td>0</td>\n",
       "      <td>0</td>\n",
       "    </tr>\n",
       "    <tr>\n",
       "      <th>10</th>\n",
       "      <td>1655.0</td>\n",
       "      <td>3.0</td>\n",
       "      <td>3</td>\n",
       "      <td>1</td>\n",
       "      <td>0</td>\n",
       "      <td>0</td>\n",
       "      <td>0</td>\n",
       "      <td>0</td>\n",
       "      <td>0</td>\n",
       "      <td>0</td>\n",
       "      <td>...</td>\n",
       "      <td>0</td>\n",
       "      <td>0</td>\n",
       "      <td>0</td>\n",
       "      <td>0</td>\n",
       "      <td>0</td>\n",
       "      <td>0</td>\n",
       "      <td>0</td>\n",
       "      <td>0</td>\n",
       "      <td>0</td>\n",
       "      <td>0</td>\n",
       "    </tr>\n",
       "    <tr>\n",
       "      <th>12</th>\n",
       "      <td>2790.0</td>\n",
       "      <td>5.0</td>\n",
       "      <td>4</td>\n",
       "      <td>1</td>\n",
       "      <td>0</td>\n",
       "      <td>0</td>\n",
       "      <td>0</td>\n",
       "      <td>0</td>\n",
       "      <td>0</td>\n",
       "      <td>0</td>\n",
       "      <td>...</td>\n",
       "      <td>0</td>\n",
       "      <td>0</td>\n",
       "      <td>0</td>\n",
       "      <td>0</td>\n",
       "      <td>0</td>\n",
       "      <td>0</td>\n",
       "      <td>0</td>\n",
       "      <td>0</td>\n",
       "      <td>0</td>\n",
       "      <td>0</td>\n",
       "    </tr>\n",
       "  </tbody>\n",
       "</table>\n",
       "<p>10 rows × 98 columns</p>\n",
       "</div>"
      ],
      "text/plain": [
       "    total_sqft  bath  bhk  Alandi Road  Ambegaon Budruk  Anandnagar  Aundh  \\\n",
       "0       1056.0   2.0    2            1                0           0      0   \n",
       "1       2894.0   4.0    4            1                0           0      0   \n",
       "2       1084.0   2.0    2            1                0           0      0   \n",
       "3       1230.0   2.0    2            1                0           0      0   \n",
       "4       1750.0   3.0    3            1                0           0      0   \n",
       "5        995.0   2.0    2            1                0           0      0   \n",
       "8       1360.0   2.0    2            1                0           0      0   \n",
       "9       1040.0   2.0    2            1                0           0      0   \n",
       "10      1655.0   3.0    3            1                0           0      0   \n",
       "12      2790.0   5.0    4            1                0           0      0   \n",
       "\n",
       "    Aundh Road  Balaji Nagar  Baner  ...  Tilak Road  Uruli Devachi  \\\n",
       "0            0             0      0  ...           0              0   \n",
       "1            0             0      0  ...           0              0   \n",
       "2            0             0      0  ...           0              0   \n",
       "3            0             0      0  ...           0              0   \n",
       "4            0             0      0  ...           0              0   \n",
       "5            0             0      0  ...           0              0   \n",
       "8            0             0      0  ...           0              0   \n",
       "9            0             0      0  ...           0              0   \n",
       "10           0             0      0  ...           0              0   \n",
       "12           0             0      0  ...           0              0   \n",
       "\n",
       "    Vadgaon Budruk  Viman Nagar  Vishrant Wadi  Wadgaon Sheri  Wagholi  \\\n",
       "0                0            0              0              0        0   \n",
       "1                0            0              0              0        0   \n",
       "2                0            0              0              0        0   \n",
       "3                0            0              0              0        0   \n",
       "4                0            0              0              0        0   \n",
       "5                0            0              0              0        0   \n",
       "8                0            0              0              0        0   \n",
       "9                0            0              0              0        0   \n",
       "10               0            0              0              0        0   \n",
       "12               0            0              0              0        0   \n",
       "\n",
       "    Wakadewadi  Wanowrie  Yerawada  \n",
       "0            0         0         0  \n",
       "1            0         0         0  \n",
       "2            0         0         0  \n",
       "3            0         0         0  \n",
       "4            0         0         0  \n",
       "5            0         0         0  \n",
       "8            0         0         0  \n",
       "9            0         0         0  \n",
       "10           0         0         0  \n",
       "12           0         0         0  \n",
       "\n",
       "[10 rows x 98 columns]"
      ]
     },
     "execution_count": 63,
     "metadata": {},
     "output_type": "execute_result"
    }
   ],
   "source": [
    "X = df12.drop(['price'],axis='columns')\n",
    "X.head(10)"
   ]
  },
  {
   "cell_type": "code",
   "execution_count": 64,
   "id": "b4a37366",
   "metadata": {
    "execution": {
     "iopub.execute_input": "2022-07-16T09:24:32.518602Z",
     "iopub.status.busy": "2022-07-16T09:24:32.518353Z",
     "iopub.status.idle": "2022-07-16T09:24:32.523180Z",
     "shell.execute_reply": "2022-07-16T09:24:32.522514Z"
    },
    "papermill": {
     "duration": 0.108019,
     "end_time": "2022-07-16T09:24:32.524867",
     "exception": false,
     "start_time": "2022-07-16T09:24:32.416848",
     "status": "completed"
    },
    "tags": []
   },
   "outputs": [
    {
     "data": {
      "text/plain": [
       "(7479, 98)"
      ]
     },
     "execution_count": 64,
     "metadata": {},
     "output_type": "execute_result"
    }
   ],
   "source": [
    "X.shape"
   ]
  },
  {
   "cell_type": "code",
   "execution_count": 65,
   "id": "f7e94fbd",
   "metadata": {
    "execution": {
     "iopub.execute_input": "2022-07-16T09:24:32.728424Z",
     "iopub.status.busy": "2022-07-16T09:24:32.728159Z",
     "iopub.status.idle": "2022-07-16T09:24:32.734274Z",
     "shell.execute_reply": "2022-07-16T09:24:32.733605Z"
    },
    "papermill": {
     "duration": 0.110675,
     "end_time": "2022-07-16T09:24:32.736755",
     "exception": false,
     "start_time": "2022-07-16T09:24:32.626080",
     "status": "completed"
    },
    "tags": []
   },
   "outputs": [
    {
     "data": {
      "text/plain": [
       "0     39.07\n",
       "1    245.00\n",
       "2     50.00\n",
       "Name: price, dtype: float64"
      ]
     },
     "execution_count": 65,
     "metadata": {},
     "output_type": "execute_result"
    }
   ],
   "source": [
    "y = df12.price\n",
    "y.head(3)"
   ]
  },
  {
   "cell_type": "code",
   "execution_count": 66,
   "id": "586f3e3b",
   "metadata": {
    "execution": {
     "iopub.execute_input": "2022-07-16T09:24:32.962362Z",
     "iopub.status.busy": "2022-07-16T09:24:32.961785Z",
     "iopub.status.idle": "2022-07-16T09:24:32.966657Z",
     "shell.execute_reply": "2022-07-16T09:24:32.966039Z"
    },
    "papermill": {
     "duration": 0.110211,
     "end_time": "2022-07-16T09:24:32.968497",
     "exception": false,
     "start_time": "2022-07-16T09:24:32.858286",
     "status": "completed"
    },
    "tags": []
   },
   "outputs": [
    {
     "data": {
      "text/plain": [
       "7479"
      ]
     },
     "execution_count": 66,
     "metadata": {},
     "output_type": "execute_result"
    }
   ],
   "source": [
    "len(y)"
   ]
  },
  {
   "cell_type": "code",
   "execution_count": 67,
   "id": "9be0194d",
   "metadata": {
    "execution": {
     "iopub.execute_input": "2022-07-16T09:24:33.174746Z",
     "iopub.status.busy": "2022-07-16T09:24:33.174472Z",
     "iopub.status.idle": "2022-07-16T09:24:34.169440Z",
     "shell.execute_reply": "2022-07-16T09:24:34.168558Z"
    },
    "papermill": {
     "duration": 1.101338,
     "end_time": "2022-07-16T09:24:34.171697",
     "exception": false,
     "start_time": "2022-07-16T09:24:33.070359",
     "status": "completed"
    },
    "tags": []
   },
   "outputs": [],
   "source": [
    "from sklearn.model_selection import train_test_split\n",
    "X_train, X_test, y_train, y_test = train_test_split(X,y,test_size=0.2,random_state=10)"
   ]
  },
  {
   "cell_type": "code",
   "execution_count": 68,
   "id": "02408f0b",
   "metadata": {
    "execution": {
     "iopub.execute_input": "2022-07-16T09:24:34.376548Z",
     "iopub.status.busy": "2022-07-16T09:24:34.375736Z",
     "iopub.status.idle": "2022-07-16T09:24:34.523087Z",
     "shell.execute_reply": "2022-07-16T09:24:34.522265Z"
    },
    "papermill": {
     "duration": 0.252913,
     "end_time": "2022-07-16T09:24:34.525652",
     "exception": false,
     "start_time": "2022-07-16T09:24:34.272739",
     "status": "completed"
    },
    "tags": []
   },
   "outputs": [
    {
     "data": {
      "text/plain": [
       "0.8234642712561875"
      ]
     },
     "execution_count": 68,
     "metadata": {},
     "output_type": "execute_result"
    }
   ],
   "source": [
    "from sklearn.linear_model import LinearRegression\n",
    "lr_clf = LinearRegression()\n",
    "lr_clf.fit(X_train,y_train)\n",
    "lr_clf.score(X_test,y_test)"
   ]
  },
  {
   "cell_type": "markdown",
   "id": "afcbfcd9",
   "metadata": {
    "papermill": {
     "duration": 0.104165,
     "end_time": "2022-07-16T09:24:34.799632",
     "exception": false,
     "start_time": "2022-07-16T09:24:34.695467",
     "status": "completed"
    },
    "tags": []
   },
   "source": [
    " # Use K fold cross validation to measure accuracy of our LinearRegression model"
   ]
  },
  {
   "cell_type": "code",
   "execution_count": 69,
   "id": "7596584a",
   "metadata": {
    "execution": {
     "iopub.execute_input": "2022-07-16T09:24:35.008405Z",
     "iopub.status.busy": "2022-07-16T09:24:35.008137Z",
     "iopub.status.idle": "2022-07-16T09:24:35.377863Z",
     "shell.execute_reply": "2022-07-16T09:24:35.377196Z"
    },
    "papermill": {
     "duration": 0.478347,
     "end_time": "2022-07-16T09:24:35.381056",
     "exception": false,
     "start_time": "2022-07-16T09:24:34.902709",
     "status": "completed"
    },
    "tags": []
   },
   "outputs": [
    {
     "data": {
      "text/plain": [
       "array([0.87729294, 0.87158074, 0.82825079, 0.89763339, 0.81068616])"
      ]
     },
     "execution_count": 69,
     "metadata": {},
     "output_type": "execute_result"
    }
   ],
   "source": [
    "from sklearn.model_selection import ShuffleSplit\n",
    "from sklearn.model_selection import cross_val_score\n",
    "\n",
    "cv = ShuffleSplit(n_splits=5, test_size=0.2, random_state=0)\n",
    "\n",
    "cross_val_score(LinearRegression(), X, y, cv=cv)"
   ]
  },
  {
   "cell_type": "markdown",
   "id": "418c079e",
   "metadata": {
    "papermill": {
     "duration": 0.106832,
     "end_time": "2022-07-16T09:24:35.684355",
     "exception": false,
     "start_time": "2022-07-16T09:24:35.577523",
     "status": "completed"
    },
    "tags": []
   },
   "source": [
    "**We can see that in 5 iterations we got a score above 80% all the time. This is pretty good but we want to test few other algorithms for regression to see if we can get even better score. We will use GridSearchCV for this purpose**"
   ]
  },
  {
   "cell_type": "markdown",
   "id": "d7d64cde",
   "metadata": {
    "papermill": {
     "duration": 0.110456,
     "end_time": "2022-07-16T09:24:35.898778",
     "exception": false,
     "start_time": "2022-07-16T09:24:35.788322",
     "status": "completed"
    },
    "tags": []
   },
   "source": [
    "# **Find best model using GridSearchCV**"
   ]
  },
  {
   "cell_type": "code",
   "execution_count": 70,
   "id": "fd123d0e",
   "metadata": {
    "execution": {
     "iopub.execute_input": "2022-07-16T09:24:36.113746Z",
     "iopub.status.busy": "2022-07-16T09:24:36.113486Z",
     "iopub.status.idle": "2022-07-16T09:24:39.996623Z",
     "shell.execute_reply": "2022-07-16T09:24:39.995785Z"
    },
    "papermill": {
     "duration": 3.993084,
     "end_time": "2022-07-16T09:24:40.000629",
     "exception": false,
     "start_time": "2022-07-16T09:24:36.007545",
     "status": "completed"
    },
    "tags": []
   },
   "outputs": [
    {
     "name": "stderr",
     "output_type": "stream",
     "text": [
      "C:\\Users\\Image\\anaconda3\\lib\\site-packages\\sklearn\\linear_model\\_base.py:141: FutureWarning: 'normalize' was deprecated in version 1.0 and will be removed in 1.2.\n",
      "If you wish to scale the data, use Pipeline with a StandardScaler in a preprocessing stage. To reproduce the previous behavior:\n",
      "\n",
      "from sklearn.pipeline import make_pipeline\n",
      "\n",
      "model = make_pipeline(StandardScaler(with_mean=False), LinearRegression())\n",
      "\n",
      "If you wish to pass a sample_weight parameter, you need to pass it as a fit parameter to each step of the pipeline as follows:\n",
      "\n",
      "kwargs = {s[0] + '__sample_weight': sample_weight for s in model.steps}\n",
      "model.fit(X, y, **kwargs)\n",
      "\n",
      "\n",
      "  warnings.warn(\n",
      "C:\\Users\\Image\\anaconda3\\lib\\site-packages\\sklearn\\linear_model\\_base.py:141: FutureWarning: 'normalize' was deprecated in version 1.0 and will be removed in 1.2.\n",
      "If you wish to scale the data, use Pipeline with a StandardScaler in a preprocessing stage. To reproduce the previous behavior:\n",
      "\n",
      "from sklearn.pipeline import make_pipeline\n",
      "\n",
      "model = make_pipeline(StandardScaler(with_mean=False), LinearRegression())\n",
      "\n",
      "If you wish to pass a sample_weight parameter, you need to pass it as a fit parameter to each step of the pipeline as follows:\n",
      "\n",
      "kwargs = {s[0] + '__sample_weight': sample_weight for s in model.steps}\n",
      "model.fit(X, y, **kwargs)\n",
      "\n",
      "\n",
      "  warnings.warn(\n",
      "C:\\Users\\Image\\anaconda3\\lib\\site-packages\\sklearn\\linear_model\\_base.py:141: FutureWarning: 'normalize' was deprecated in version 1.0 and will be removed in 1.2.\n",
      "If you wish to scale the data, use Pipeline with a StandardScaler in a preprocessing stage. To reproduce the previous behavior:\n",
      "\n",
      "from sklearn.pipeline import make_pipeline\n",
      "\n",
      "model = make_pipeline(StandardScaler(with_mean=False), LinearRegression())\n",
      "\n",
      "If you wish to pass a sample_weight parameter, you need to pass it as a fit parameter to each step of the pipeline as follows:\n",
      "\n",
      "kwargs = {s[0] + '__sample_weight': sample_weight for s in model.steps}\n",
      "model.fit(X, y, **kwargs)\n",
      "\n",
      "\n",
      "  warnings.warn(\n",
      "C:\\Users\\Image\\anaconda3\\lib\\site-packages\\sklearn\\linear_model\\_base.py:141: FutureWarning: 'normalize' was deprecated in version 1.0 and will be removed in 1.2.\n",
      "If you wish to scale the data, use Pipeline with a StandardScaler in a preprocessing stage. To reproduce the previous behavior:\n",
      "\n",
      "from sklearn.pipeline import make_pipeline\n",
      "\n",
      "model = make_pipeline(StandardScaler(with_mean=False), LinearRegression())\n",
      "\n",
      "If you wish to pass a sample_weight parameter, you need to pass it as a fit parameter to each step of the pipeline as follows:\n",
      "\n",
      "kwargs = {s[0] + '__sample_weight': sample_weight for s in model.steps}\n",
      "model.fit(X, y, **kwargs)\n",
      "\n",
      "\n",
      "  warnings.warn(\n",
      "C:\\Users\\Image\\anaconda3\\lib\\site-packages\\sklearn\\linear_model\\_base.py:141: FutureWarning: 'normalize' was deprecated in version 1.0 and will be removed in 1.2.\n",
      "If you wish to scale the data, use Pipeline with a StandardScaler in a preprocessing stage. To reproduce the previous behavior:\n",
      "\n",
      "from sklearn.pipeline import make_pipeline\n",
      "\n",
      "model = make_pipeline(StandardScaler(with_mean=False), LinearRegression())\n",
      "\n",
      "If you wish to pass a sample_weight parameter, you need to pass it as a fit parameter to each step of the pipeline as follows:\n",
      "\n",
      "kwargs = {s[0] + '__sample_weight': sample_weight for s in model.steps}\n",
      "model.fit(X, y, **kwargs)\n",
      "\n",
      "\n",
      "  warnings.warn(\n",
      "C:\\Users\\Image\\anaconda3\\lib\\site-packages\\sklearn\\linear_model\\_base.py:148: FutureWarning: 'normalize' was deprecated in version 1.0 and will be removed in 1.2. Please leave the normalize parameter to its default value to silence this warning. The default behavior of this estimator is to not do any normalization. If normalization is needed please use sklearn.preprocessing.StandardScaler instead.\n",
      "  warnings.warn(\n",
      "C:\\Users\\Image\\anaconda3\\lib\\site-packages\\sklearn\\linear_model\\_base.py:148: FutureWarning: 'normalize' was deprecated in version 1.0 and will be removed in 1.2. Please leave the normalize parameter to its default value to silence this warning. The default behavior of this estimator is to not do any normalization. If normalization is needed please use sklearn.preprocessing.StandardScaler instead.\n",
      "  warnings.warn(\n",
      "C:\\Users\\Image\\anaconda3\\lib\\site-packages\\sklearn\\linear_model\\_base.py:148: FutureWarning: 'normalize' was deprecated in version 1.0 and will be removed in 1.2. Please leave the normalize parameter to its default value to silence this warning. The default behavior of this estimator is to not do any normalization. If normalization is needed please use sklearn.preprocessing.StandardScaler instead.\n",
      "  warnings.warn(\n",
      "C:\\Users\\Image\\anaconda3\\lib\\site-packages\\sklearn\\linear_model\\_base.py:148: FutureWarning: 'normalize' was deprecated in version 1.0 and will be removed in 1.2. Please leave the normalize parameter to its default value to silence this warning. The default behavior of this estimator is to not do any normalization. If normalization is needed please use sklearn.preprocessing.StandardScaler instead.\n",
      "  warnings.warn(\n",
      "C:\\Users\\Image\\anaconda3\\lib\\site-packages\\sklearn\\linear_model\\_base.py:148: FutureWarning: 'normalize' was deprecated in version 1.0 and will be removed in 1.2. Please leave the normalize parameter to its default value to silence this warning. The default behavior of this estimator is to not do any normalization. If normalization is needed please use sklearn.preprocessing.StandardScaler instead.\n",
      "  warnings.warn(\n",
      "C:\\Users\\Image\\anaconda3\\lib\\site-packages\\sklearn\\linear_model\\_base.py:148: FutureWarning: 'normalize' was deprecated in version 1.0 and will be removed in 1.2. Please leave the normalize parameter to its default value to silence this warning. The default behavior of this estimator is to not do any normalization. If normalization is needed please use sklearn.preprocessing.StandardScaler instead.\n",
      "  warnings.warn(\n",
      "C:\\Users\\Image\\anaconda3\\lib\\site-packages\\sklearn\\tree\\_classes.py:359: FutureWarning: Criterion 'mse' was deprecated in v1.0 and will be removed in version 1.2. Use `criterion='squared_error'` which is equivalent.\n",
      "  warnings.warn(\n",
      "C:\\Users\\Image\\anaconda3\\lib\\site-packages\\sklearn\\tree\\_classes.py:359: FutureWarning: Criterion 'mse' was deprecated in v1.0 and will be removed in version 1.2. Use `criterion='squared_error'` which is equivalent.\n",
      "  warnings.warn(\n",
      "C:\\Users\\Image\\anaconda3\\lib\\site-packages\\sklearn\\tree\\_classes.py:359: FutureWarning: Criterion 'mse' was deprecated in v1.0 and will be removed in version 1.2. Use `criterion='squared_error'` which is equivalent.\n",
      "  warnings.warn(\n",
      "C:\\Users\\Image\\anaconda3\\lib\\site-packages\\sklearn\\tree\\_classes.py:359: FutureWarning: Criterion 'mse' was deprecated in v1.0 and will be removed in version 1.2. Use `criterion='squared_error'` which is equivalent.\n",
      "  warnings.warn(\n",
      "C:\\Users\\Image\\anaconda3\\lib\\site-packages\\sklearn\\tree\\_classes.py:359: FutureWarning: Criterion 'mse' was deprecated in v1.0 and will be removed in version 1.2. Use `criterion='squared_error'` which is equivalent.\n",
      "  warnings.warn(\n",
      "C:\\Users\\Image\\anaconda3\\lib\\site-packages\\sklearn\\tree\\_classes.py:359: FutureWarning: Criterion 'mse' was deprecated in v1.0 and will be removed in version 1.2. Use `criterion='squared_error'` which is equivalent.\n",
      "  warnings.warn(\n",
      "C:\\Users\\Image\\anaconda3\\lib\\site-packages\\sklearn\\tree\\_classes.py:359: FutureWarning: Criterion 'mse' was deprecated in v1.0 and will be removed in version 1.2. Use `criterion='squared_error'` which is equivalent.\n",
      "  warnings.warn(\n",
      "C:\\Users\\Image\\anaconda3\\lib\\site-packages\\sklearn\\tree\\_classes.py:359: FutureWarning: Criterion 'mse' was deprecated in v1.0 and will be removed in version 1.2. Use `criterion='squared_error'` which is equivalent.\n",
      "  warnings.warn(\n",
      "C:\\Users\\Image\\anaconda3\\lib\\site-packages\\sklearn\\tree\\_classes.py:359: FutureWarning: Criterion 'mse' was deprecated in v1.0 and will be removed in version 1.2. Use `criterion='squared_error'` which is equivalent.\n",
      "  warnings.warn(\n",
      "C:\\Users\\Image\\anaconda3\\lib\\site-packages\\sklearn\\tree\\_classes.py:359: FutureWarning: Criterion 'mse' was deprecated in v1.0 and will be removed in version 1.2. Use `criterion='squared_error'` which is equivalent.\n",
      "  warnings.warn(\n",
      "C:\\Users\\Image\\anaconda3\\lib\\site-packages\\sklearn\\tree\\_classes.py:359: FutureWarning: Criterion 'mse' was deprecated in v1.0 and will be removed in version 1.2. Use `criterion='squared_error'` which is equivalent.\n",
      "  warnings.warn(\n"
     ]
    },
    {
     "data": {
      "text/html": [
       "<div>\n",
       "<style scoped>\n",
       "    .dataframe tbody tr th:only-of-type {\n",
       "        vertical-align: middle;\n",
       "    }\n",
       "\n",
       "    .dataframe tbody tr th {\n",
       "        vertical-align: top;\n",
       "    }\n",
       "\n",
       "    .dataframe thead th {\n",
       "        text-align: right;\n",
       "    }\n",
       "</style>\n",
       "<table border=\"1\" class=\"dataframe\">\n",
       "  <thead>\n",
       "    <tr style=\"text-align: right;\">\n",
       "      <th></th>\n",
       "      <th>model</th>\n",
       "      <th>best_score</th>\n",
       "      <th>best_params</th>\n",
       "    </tr>\n",
       "  </thead>\n",
       "  <tbody>\n",
       "    <tr>\n",
       "      <th>0</th>\n",
       "      <td>linear_regression</td>\n",
       "      <td>0.857089</td>\n",
       "      <td>{'normalize': False}</td>\n",
       "    </tr>\n",
       "    <tr>\n",
       "      <th>1</th>\n",
       "      <td>lasso</td>\n",
       "      <td>0.857851</td>\n",
       "      <td>{'alpha': 2, 'selection': 'random'}</td>\n",
       "    </tr>\n",
       "    <tr>\n",
       "      <th>2</th>\n",
       "      <td>decision_tree</td>\n",
       "      <td>0.778357</td>\n",
       "      <td>{'criterion': 'mse', 'splitter': 'random'}</td>\n",
       "    </tr>\n",
       "  </tbody>\n",
       "</table>\n",
       "</div>"
      ],
      "text/plain": [
       "               model  best_score                                 best_params\n",
       "0  linear_regression    0.857089                        {'normalize': False}\n",
       "1              lasso    0.857851         {'alpha': 2, 'selection': 'random'}\n",
       "2      decision_tree    0.778357  {'criterion': 'mse', 'splitter': 'random'}"
      ]
     },
     "execution_count": 70,
     "metadata": {},
     "output_type": "execute_result"
    }
   ],
   "source": [
    "from sklearn.model_selection import GridSearchCV\n",
    "\n",
    "from sklearn.linear_model import Lasso\n",
    "from sklearn.tree import DecisionTreeRegressor\n",
    "\n",
    "def find_best_model_using_gridsearchcv(X,y):\n",
    "    algos = {\n",
    "        'linear_regression' : {\n",
    "            'model': LinearRegression(),\n",
    "            'params': {\n",
    "                'normalize': [True, False]\n",
    "            }\n",
    "        },\n",
    "        'lasso': {\n",
    "            'model': Lasso(),\n",
    "            'params': {\n",
    "                'alpha': [1,2],\n",
    "                'selection': ['random', 'cyclic']\n",
    "            }\n",
    "        },\n",
    "        'decision_tree': {\n",
    "            'model': DecisionTreeRegressor(),\n",
    "            'params': {\n",
    "                'criterion' : ['mse','friedman_mse'],\n",
    "                'splitter': ['best','random']\n",
    "            }\n",
    "        }\n",
    "    }\n",
    "    scores = []\n",
    "    cv = ShuffleSplit(n_splits=5, test_size=0.2, random_state=0)\n",
    "    for algo_name, config in algos.items():\n",
    "        gs =  GridSearchCV(config['model'], config['params'], cv=cv, return_train_score=False)\n",
    "        gs.fit(X,y)\n",
    "        scores.append({\n",
    "            'model': algo_name,\n",
    "            'best_score': gs.best_score_,\n",
    "            'best_params': gs.best_params_\n",
    "        })\n",
    "\n",
    "    return pd.DataFrame(scores,columns=['model','best_score','best_params'])\n",
    "\n",
    "find_best_model_using_gridsearchcv(X,y)"
   ]
  },
  {
   "cell_type": "code",
   "execution_count": 71,
   "id": "5abc9185",
   "metadata": {
    "execution": {
     "iopub.execute_input": "2022-07-16T09:24:40.216246Z",
     "iopub.status.busy": "2022-07-16T09:24:40.215996Z",
     "iopub.status.idle": "2022-07-16T09:24:40.222030Z",
     "shell.execute_reply": "2022-07-16T09:24:40.221161Z"
    },
    "papermill": {
     "duration": 0.114315,
     "end_time": "2022-07-16T09:24:40.223876",
     "exception": false,
     "start_time": "2022-07-16T09:24:40.109561",
     "status": "completed"
    },
    "tags": []
   },
   "outputs": [
    {
     "data": {
      "text/plain": [
       "Index(['total_sqft', 'bath', 'bhk', 'Alandi Road', 'Ambegaon Budruk',\n",
       "       'Anandnagar', 'Aundh', 'Aundh Road', 'Balaji Nagar', 'Baner',\n",
       "       'Baner road', 'Bhandarkar Road', 'Bhavani Peth', 'Bibvewadi', 'Bopodi',\n",
       "       'Budhwar Peth', 'Bund Garden Road', 'Camp', 'Chandan Nagar', 'Dapodi',\n",
       "       'Deccan Gymkhana', 'Dehu Road', 'Dhankawadi', 'Dhayari Phata',\n",
       "       'Dhole Patil Road', 'Erandwane', 'Fatima Nagar',\n",
       "       'Fergusson College Road', 'Ganesh Peth', 'Ganeshkhind', 'Ghorpade Peth',\n",
       "       'Ghorpadi', 'Gokhale Nagar', 'Gultekdi', 'Guruwar peth', 'Hadapsar',\n",
       "       'Hadapsar Industrial Estate', 'Hingne Khurd', 'Jangali Maharaj Road',\n",
       "       'Kalyani Nagar', 'Karve Nagar', 'Karve Road', 'Kasba Peth', 'Katraj',\n",
       "       'Khadaki', 'Khadki', 'Kharadi', 'Kondhwa', 'Kondhwa Budruk',\n",
       "       'Kondhwa Khurd', 'Koregaon Park', 'Kothrud', 'Law College Road',\n",
       "       'Laxmi Road', 'Lulla Nagar', 'Mahatma Gandhi Road', 'Mangalwar peth',\n",
       "       'Manik Bagh', 'Market yard', 'Model colony', 'Mukund Nagar', 'Mundhawa',\n",
       "       'Nagar Road', 'Nana Peth', 'Narayan Peth', 'Narayangaon', 'Navi Peth',\n",
       "       'Padmavati', 'Parvati Darshan', 'Pashan', 'Paud Road', 'Pirangut',\n",
       "       'Prabhat Road', 'Pune Railway Station', 'Rasta Peth', 'Raviwar Peth',\n",
       "       'Sadashiv Peth', 'Sahakar Nagar', 'Salunke Vihar', 'Sasson Road',\n",
       "       'Satara Road', 'Senapati Bapat Road', 'Shaniwar Peth', 'Shivaji Nagar',\n",
       "       'Shukrawar Peth', 'Sinhagad Road', 'Somwar Peth', 'Swargate',\n",
       "       'Tilak Road', 'Uruli Devachi', 'Vadgaon Budruk', 'Viman Nagar',\n",
       "       'Vishrant Wadi', 'Wadgaon Sheri', 'Wagholi', 'Wakadewadi', 'Wanowrie',\n",
       "       'Yerawada'],\n",
       "      dtype='object')"
      ]
     },
     "execution_count": 71,
     "metadata": {},
     "output_type": "execute_result"
    }
   ],
   "source": [
    "#Based on above results we can say that LinearRegression gives the best score. Hence we will use that.\n",
    "X.columns"
   ]
  },
  {
   "cell_type": "code",
   "execution_count": 72,
   "id": "697ea615",
   "metadata": {
    "execution": {
     "iopub.execute_input": "2022-07-16T09:24:40.440879Z",
     "iopub.status.busy": "2022-07-16T09:24:40.440641Z",
     "iopub.status.idle": "2022-07-16T09:24:40.445991Z",
     "shell.execute_reply": "2022-07-16T09:24:40.445340Z"
    },
    "papermill": {
     "duration": 0.117089,
     "end_time": "2022-07-16T09:24:40.447841",
     "exception": false,
     "start_time": "2022-07-16T09:24:40.330752",
     "status": "completed"
    },
    "tags": []
   },
   "outputs": [
    {
     "data": {
      "text/plain": [
       "4"
      ]
     },
     "execution_count": 72,
     "metadata": {},
     "output_type": "execute_result"
    }
   ],
   "source": [
    "location='Ambegaon Budruk'\n",
    "np.where(X.columns==location)[0][0]"
   ]
  },
  {
   "cell_type": "markdown",
   "id": "8ea2f71c",
   "metadata": {
    "papermill": {
     "duration": 0.107019,
     "end_time": "2022-07-16T09:24:40.661326",
     "exception": false,
     "start_time": "2022-07-16T09:24:40.554307",
     "status": "completed"
    },
    "tags": []
   },
   "source": [
    "# Test the model for few properties"
   ]
  },
  {
   "cell_type": "code",
   "execution_count": 73,
   "id": "2aa45739",
   "metadata": {
    "execution": {
     "iopub.execute_input": "2022-07-16T09:24:40.942845Z",
     "iopub.status.busy": "2022-07-16T09:24:40.942419Z",
     "iopub.status.idle": "2022-07-16T09:24:40.949038Z",
     "shell.execute_reply": "2022-07-16T09:24:40.948329Z"
    },
    "papermill": {
     "duration": 0.182155,
     "end_time": "2022-07-16T09:24:40.951010",
     "exception": false,
     "start_time": "2022-07-16T09:24:40.768855",
     "status": "completed"
    },
    "tags": []
   },
   "outputs": [],
   "source": [
    "def predict_price(location,sqft,bath,bhk):    \n",
    "    loc_index = np.where(X.columns==location)[0][0]\n",
    "\n",
    "    x = np.zeros(len(X.columns))\n",
    "    x[0] = sqft\n",
    "    x[1] = bath\n",
    "    x[2] = bhk\n",
    "    if loc_index >= 0:\n",
    "        x[loc_index] = 1\n",
    "\n",
    "    return lr_clf.predict([x])[0]"
   ]
  },
  {
   "cell_type": "code",
   "execution_count": 74,
   "id": "1477c135",
   "metadata": {
    "execution": {
     "iopub.execute_input": "2022-07-16T09:24:41.295806Z",
     "iopub.status.busy": "2022-07-16T09:24:41.295235Z",
     "iopub.status.idle": "2022-07-16T09:24:41.304650Z",
     "shell.execute_reply": "2022-07-16T09:24:41.303754Z"
    },
    "papermill": {
     "duration": 0.185652,
     "end_time": "2022-07-16T09:24:41.309794",
     "exception": false,
     "start_time": "2022-07-16T09:24:41.124142",
     "status": "completed"
    },
    "tags": []
   },
   "outputs": [
    {
     "name": "stderr",
     "output_type": "stream",
     "text": [
      "C:\\Users\\Image\\anaconda3\\lib\\site-packages\\sklearn\\base.py:450: UserWarning: X does not have valid feature names, but LinearRegression was fitted with feature names\n",
      "  warnings.warn(\n"
     ]
    },
    {
     "data": {
      "text/plain": [
       "51.95113071262533"
      ]
     },
     "execution_count": 74,
     "metadata": {},
     "output_type": "execute_result"
    }
   ],
   "source": [
    "predict_price('Ambegaon Budruk',1000,2,2)"
   ]
  },
  {
   "cell_type": "code",
   "execution_count": 75,
   "id": "f1eeedb6",
   "metadata": {
    "execution": {
     "iopub.execute_input": "2022-07-16T09:24:41.705804Z",
     "iopub.status.busy": "2022-07-16T09:24:41.705463Z",
     "iopub.status.idle": "2022-07-16T09:24:41.718036Z",
     "shell.execute_reply": "2022-07-16T09:24:41.716673Z"
    },
    "papermill": {
     "duration": 0.2143,
     "end_time": "2022-07-16T09:24:41.721234",
     "exception": false,
     "start_time": "2022-07-16T09:24:41.506934",
     "status": "completed"
    },
    "tags": []
   },
   "outputs": [
    {
     "name": "stderr",
     "output_type": "stream",
     "text": [
      "C:\\Users\\Image\\anaconda3\\lib\\site-packages\\sklearn\\base.py:450: UserWarning: X does not have valid feature names, but LinearRegression was fitted with feature names\n",
      "  warnings.warn(\n"
     ]
    },
    {
     "data": {
      "text/plain": [
       "54.47550237009678"
      ]
     },
     "execution_count": 75,
     "metadata": {},
     "output_type": "execute_result"
    }
   ],
   "source": [
    "predict_price('Ambegaon Budruk',1000,3,3)"
   ]
  },
  {
   "cell_type": "code",
   "execution_count": 76,
   "id": "7c5c4287",
   "metadata": {
    "execution": {
     "iopub.execute_input": "2022-07-16T09:24:42.098793Z",
     "iopub.status.busy": "2022-07-16T09:24:42.098354Z",
     "iopub.status.idle": "2022-07-16T09:24:42.109689Z",
     "shell.execute_reply": "2022-07-16T09:24:42.108464Z"
    },
    "papermill": {
     "duration": 0.204881,
     "end_time": "2022-07-16T09:24:42.115352",
     "exception": false,
     "start_time": "2022-07-16T09:24:41.910471",
     "status": "completed"
    },
    "tags": []
   },
   "outputs": [
    {
     "name": "stderr",
     "output_type": "stream",
     "text": [
      "C:\\Users\\Image\\anaconda3\\lib\\site-packages\\sklearn\\base.py:450: UserWarning: X does not have valid feature names, but LinearRegression was fitted with feature names\n",
      "  warnings.warn(\n"
     ]
    },
    {
     "data": {
      "text/plain": [
       "52.658446119690595"
      ]
     },
     "execution_count": 76,
     "metadata": {},
     "output_type": "execute_result"
    }
   ],
   "source": [
    "predict_price('Alandi Road',1000,2,2)"
   ]
  },
  {
   "cell_type": "code",
   "execution_count": 77,
   "id": "750bcb03",
   "metadata": {
    "execution": {
     "iopub.execute_input": "2022-07-16T09:24:42.378212Z",
     "iopub.status.busy": "2022-07-16T09:24:42.377970Z",
     "iopub.status.idle": "2022-07-16T09:24:42.384818Z",
     "shell.execute_reply": "2022-07-16T09:24:42.383851Z"
    },
    "papermill": {
     "duration": 0.121682,
     "end_time": "2022-07-16T09:24:42.387817",
     "exception": false,
     "start_time": "2022-07-16T09:24:42.266135",
     "status": "completed"
    },
    "tags": []
   },
   "outputs": [
    {
     "name": "stderr",
     "output_type": "stream",
     "text": [
      "C:\\Users\\Image\\anaconda3\\lib\\site-packages\\sklearn\\base.py:450: UserWarning: X does not have valid feature names, but LinearRegression was fitted with feature names\n",
      "  warnings.warn(\n"
     ]
    },
    {
     "data": {
      "text/plain": [
       "69.39406388747848"
      ]
     },
     "execution_count": 77,
     "metadata": {},
     "output_type": "execute_result"
    }
   ],
   "source": [
    "predict_price('Alandi Road',1200,3,3)"
   ]
  },
  {
   "cell_type": "markdown",
   "id": "df567f7b",
   "metadata": {
    "papermill": {
     "duration": 0.109305,
     "end_time": "2022-07-16T09:24:42.611843",
     "exception": false,
     "start_time": "2022-07-16T09:24:42.502538",
     "status": "completed"
    },
    "tags": []
   },
   "source": [
    "**Export tested model to a pickle file**"
   ]
  },
  {
   "cell_type": "code",
   "execution_count": 78,
   "id": "bf4793cb",
   "metadata": {
    "execution": {
     "iopub.execute_input": "2022-07-16T09:24:42.841343Z",
     "iopub.status.busy": "2022-07-16T09:24:42.840784Z",
     "iopub.status.idle": "2022-07-16T09:24:42.845372Z",
     "shell.execute_reply": "2022-07-16T09:24:42.844720Z"
    },
    "papermill": {
     "duration": 0.124465,
     "end_time": "2022-07-16T09:24:42.847148",
     "exception": false,
     "start_time": "2022-07-16T09:24:42.722683",
     "status": "completed"
    },
    "tags": []
   },
   "outputs": [],
   "source": [
    "import pickle\n",
    "with open('pune_house_prices_model.pickle','wb') as f:\n",
    "    pickle.dump(lr_clf,f)"
   ]
  },
  {
   "cell_type": "markdown",
   "id": "a9593fa6",
   "metadata": {
    "papermill": {
     "duration": 0.108054,
     "end_time": "2022-07-16T09:24:43.065752",
     "exception": false,
     "start_time": "2022-07-16T09:24:42.957698",
     "status": "completed"
    },
    "tags": []
   },
   "source": [
    "# Export location and column information to a file that will be useful later on in our prediction application"
   ]
  },
  {
   "cell_type": "code",
   "execution_count": 79,
   "id": "ca5e2288",
   "metadata": {
    "execution": {
     "iopub.execute_input": "2022-07-16T09:24:43.286733Z",
     "iopub.status.busy": "2022-07-16T09:24:43.286453Z",
     "iopub.status.idle": "2022-07-16T09:24:43.291354Z",
     "shell.execute_reply": "2022-07-16T09:24:43.290648Z"
    },
    "papermill": {
     "duration": 0.117375,
     "end_time": "2022-07-16T09:24:43.293055",
     "exception": false,
     "start_time": "2022-07-16T09:24:43.175680",
     "status": "completed"
    },
    "tags": []
   },
   "outputs": [],
   "source": [
    "import json\n",
    "columns = {\n",
    "    'data_columns' : [col.lower() for col in X.columns]\n",
    "}\n",
    "with open(\"columns.json\",\"w\") as f:\n",
    "    f.write(json.dumps(columns))"
   ]
  },
  {
   "cell_type": "code",
   "execution_count": null,
   "id": "f42fe1de",
   "metadata": {},
   "outputs": [],
   "source": []
  }
 ],
 "metadata": {
  "kernelspec": {
   "display_name": "Python 3 (ipykernel)",
   "language": "python",
   "name": "python3"
  },
  "language_info": {
   "codemirror_mode": {
    "name": "ipython",
    "version": 3
   },
   "file_extension": ".py",
   "mimetype": "text/x-python",
   "name": "python",
   "nbconvert_exporter": "python",
   "pygments_lexer": "ipython3",
   "version": "3.9.12"
  },
  "papermill": {
   "default_parameters": {},
   "duration": 38.204379,
   "end_time": "2022-07-16T09:24:43.921153",
   "environment_variables": {},
   "exception": null,
   "input_path": "__notebook__.ipynb",
   "output_path": "__notebook__.ipynb",
   "parameters": {},
   "start_time": "2022-07-16T09:24:05.716774",
   "version": "2.3.4"
  }
 },
 "nbformat": 4,
 "nbformat_minor": 5
}
